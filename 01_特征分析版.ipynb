{
 "cells": [
  {
   "cell_type": "code",
   "execution_count": 1,
   "metadata": {},
   "outputs": [],
   "source": [
    "import pandas as pd\n",
    "import numpy as np\n",
    "from datetime import date\n",
    "import datetime as dt"
   ]
  },
  {
   "cell_type": "code",
   "execution_count": 3,
   "metadata": {},
   "outputs": [],
   "source": [
    "#keep_default_na=False 表示读取出来的是null , 如果不加就是缺失值nan"
   ]
  },
  {
   "cell_type": "markdown",
   "metadata": {},
   "source": [
    "# 获取数据"
   ]
  },
  {
   "cell_type": "code",
   "execution_count": 2,
   "metadata": {},
   "outputs": [],
   "source": [
    "off_train = pd.read_csv('./data/ccf_offline_stage1_train.csv', keep_default_na=False, header=0)\n",
    "off_test = pd.read_csv('./data/ccf_offline_stage1_test_revised.csv',keep_default_na=False, header=0)\n",
    "on_train = pd.read_csv('./data/ccf_online_stage1_train.csv', keep_default_na=False, header=0)"
   ]
  },
  {
   "cell_type": "markdown",
   "metadata": {},
   "source": [
    "## 观察数据训练集和测试集的数据表特征"
   ]
  },
  {
   "cell_type": "code",
   "execution_count": 4,
   "metadata": {},
   "outputs": [
    {
     "data": {
      "text/html": [
       "<div>\n",
       "<style scoped>\n",
       "    .dataframe tbody tr th:only-of-type {\n",
       "        vertical-align: middle;\n",
       "    }\n",
       "\n",
       "    .dataframe tbody tr th {\n",
       "        vertical-align: top;\n",
       "    }\n",
       "\n",
       "    .dataframe thead th {\n",
       "        text-align: right;\n",
       "    }\n",
       "</style>\n",
       "<table border=\"1\" class=\"dataframe\">\n",
       "  <thead>\n",
       "    <tr style=\"text-align: right;\">\n",
       "      <th></th>\n",
       "      <th>User_id</th>\n",
       "      <th>Merchant_id</th>\n",
       "      <th>Coupon_id</th>\n",
       "      <th>Discount_rate</th>\n",
       "      <th>Distance</th>\n",
       "      <th>Date_received</th>\n",
       "      <th>Date</th>\n",
       "    </tr>\n",
       "  </thead>\n",
       "  <tbody>\n",
       "    <tr>\n",
       "      <th>0</th>\n",
       "      <td>1439408</td>\n",
       "      <td>2632</td>\n",
       "      <td>null</td>\n",
       "      <td>null</td>\n",
       "      <td>0</td>\n",
       "      <td>null</td>\n",
       "      <td>20160217</td>\n",
       "    </tr>\n",
       "    <tr>\n",
       "      <th>1</th>\n",
       "      <td>1439408</td>\n",
       "      <td>4663</td>\n",
       "      <td>11002</td>\n",
       "      <td>150:20</td>\n",
       "      <td>1</td>\n",
       "      <td>20160528</td>\n",
       "      <td>null</td>\n",
       "    </tr>\n",
       "    <tr>\n",
       "      <th>2</th>\n",
       "      <td>1439408</td>\n",
       "      <td>2632</td>\n",
       "      <td>8591</td>\n",
       "      <td>20:1</td>\n",
       "      <td>0</td>\n",
       "      <td>20160217</td>\n",
       "      <td>null</td>\n",
       "    </tr>\n",
       "    <tr>\n",
       "      <th>3</th>\n",
       "      <td>1439408</td>\n",
       "      <td>2632</td>\n",
       "      <td>1078</td>\n",
       "      <td>20:1</td>\n",
       "      <td>0</td>\n",
       "      <td>20160319</td>\n",
       "      <td>null</td>\n",
       "    </tr>\n",
       "    <tr>\n",
       "      <th>4</th>\n",
       "      <td>1439408</td>\n",
       "      <td>2632</td>\n",
       "      <td>8591</td>\n",
       "      <td>20:1</td>\n",
       "      <td>0</td>\n",
       "      <td>20160613</td>\n",
       "      <td>null</td>\n",
       "    </tr>\n",
       "  </tbody>\n",
       "</table>\n",
       "</div>"
      ],
      "text/plain": [
       "   User_id  Merchant_id Coupon_id Discount_rate Distance Date_received  \\\n",
       "0  1439408         2632      null          null        0          null   \n",
       "1  1439408         4663     11002        150:20        1      20160528   \n",
       "2  1439408         2632      8591          20:1        0      20160217   \n",
       "3  1439408         2632      1078          20:1        0      20160319   \n",
       "4  1439408         2632      8591          20:1        0      20160613   \n",
       "\n",
       "       Date  \n",
       "0  20160217  \n",
       "1      null  \n",
       "2      null  \n",
       "3      null  \n",
       "4      null  "
      ]
     },
     "execution_count": 4,
     "metadata": {},
     "output_type": "execute_result"
    }
   ],
   "source": [
    "off_train.head()"
   ]
  },
  {
   "cell_type": "code",
   "execution_count": 8,
   "metadata": {},
   "outputs": [
    {
     "name": "stdout",
     "output_type": "stream",
     "text": [
      "<class 'pandas.core.frame.DataFrame'>\n",
      "RangeIndex: 1754884 entries, 0 to 1754883\n",
      "Data columns (total 7 columns):\n",
      "User_id          int64\n",
      "Merchant_id      int64\n",
      "Coupon_id        object\n",
      "Discount_rate    object\n",
      "Distance         object\n",
      "Date_received    object\n",
      "Date             object\n",
      "dtypes: int64(2), object(5)\n",
      "memory usage: 93.7+ MB\n"
     ]
    }
   ],
   "source": [
    "off_train.info()"
   ]
  },
  {
   "cell_type": "code",
   "execution_count": 5,
   "metadata": {},
   "outputs": [
    {
     "data": {
      "text/html": [
       "<div>\n",
       "<style scoped>\n",
       "    .dataframe tbody tr th:only-of-type {\n",
       "        vertical-align: middle;\n",
       "    }\n",
       "\n",
       "    .dataframe tbody tr th {\n",
       "        vertical-align: top;\n",
       "    }\n",
       "\n",
       "    .dataframe thead th {\n",
       "        text-align: right;\n",
       "    }\n",
       "</style>\n",
       "<table border=\"1\" class=\"dataframe\">\n",
       "  <thead>\n",
       "    <tr style=\"text-align: right;\">\n",
       "      <th></th>\n",
       "      <th>User_id</th>\n",
       "      <th>Merchant_id</th>\n",
       "      <th>Coupon_id</th>\n",
       "      <th>Discount_rate</th>\n",
       "      <th>Distance</th>\n",
       "      <th>Date_received</th>\n",
       "    </tr>\n",
       "  </thead>\n",
       "  <tbody>\n",
       "    <tr>\n",
       "      <th>0</th>\n",
       "      <td>4129537</td>\n",
       "      <td>450</td>\n",
       "      <td>9983</td>\n",
       "      <td>30:5</td>\n",
       "      <td>1</td>\n",
       "      <td>20160712</td>\n",
       "    </tr>\n",
       "    <tr>\n",
       "      <th>1</th>\n",
       "      <td>6949378</td>\n",
       "      <td>1300</td>\n",
       "      <td>3429</td>\n",
       "      <td>30:5</td>\n",
       "      <td>null</td>\n",
       "      <td>20160706</td>\n",
       "    </tr>\n",
       "    <tr>\n",
       "      <th>2</th>\n",
       "      <td>2166529</td>\n",
       "      <td>7113</td>\n",
       "      <td>6928</td>\n",
       "      <td>200:20</td>\n",
       "      <td>5</td>\n",
       "      <td>20160727</td>\n",
       "    </tr>\n",
       "    <tr>\n",
       "      <th>3</th>\n",
       "      <td>2166529</td>\n",
       "      <td>7113</td>\n",
       "      <td>1808</td>\n",
       "      <td>100:10</td>\n",
       "      <td>5</td>\n",
       "      <td>20160727</td>\n",
       "    </tr>\n",
       "    <tr>\n",
       "      <th>4</th>\n",
       "      <td>6172162</td>\n",
       "      <td>7605</td>\n",
       "      <td>6500</td>\n",
       "      <td>30:1</td>\n",
       "      <td>2</td>\n",
       "      <td>20160708</td>\n",
       "    </tr>\n",
       "  </tbody>\n",
       "</table>\n",
       "</div>"
      ],
      "text/plain": [
       "   User_id  Merchant_id  Coupon_id Discount_rate Distance  Date_received\n",
       "0  4129537          450       9983          30:5        1       20160712\n",
       "1  6949378         1300       3429          30:5     null       20160706\n",
       "2  2166529         7113       6928        200:20        5       20160727\n",
       "3  2166529         7113       1808        100:10        5       20160727\n",
       "4  6172162         7605       6500          30:1        2       20160708"
      ]
     },
     "execution_count": 5,
     "metadata": {},
     "output_type": "execute_result"
    }
   ],
   "source": [
    "off_test.head()"
   ]
  },
  {
   "cell_type": "code",
   "execution_count": 9,
   "metadata": {},
   "outputs": [
    {
     "name": "stdout",
     "output_type": "stream",
     "text": [
      "<class 'pandas.core.frame.DataFrame'>\n",
      "RangeIndex: 113640 entries, 0 to 113639\n",
      "Data columns (total 6 columns):\n",
      "User_id          113640 non-null int64\n",
      "Merchant_id      113640 non-null int64\n",
      "Coupon_id        113640 non-null int64\n",
      "Discount_rate    113640 non-null object\n",
      "Distance         113640 non-null object\n",
      "Date_received    113640 non-null int64\n",
      "dtypes: int64(4), object(2)\n",
      "memory usage: 5.2+ MB\n"
     ]
    }
   ],
   "source": [
    "off_test.info()"
   ]
  },
  {
   "cell_type": "code",
   "execution_count": 6,
   "metadata": {},
   "outputs": [
    {
     "data": {
      "text/html": [
       "<div>\n",
       "<style scoped>\n",
       "    .dataframe tbody tr th:only-of-type {\n",
       "        vertical-align: middle;\n",
       "    }\n",
       "\n",
       "    .dataframe tbody tr th {\n",
       "        vertical-align: top;\n",
       "    }\n",
       "\n",
       "    .dataframe thead th {\n",
       "        text-align: right;\n",
       "    }\n",
       "</style>\n",
       "<table border=\"1\" class=\"dataframe\">\n",
       "  <thead>\n",
       "    <tr style=\"text-align: right;\">\n",
       "      <th></th>\n",
       "      <th>User_id</th>\n",
       "      <th>Merchant_id</th>\n",
       "      <th>Action</th>\n",
       "      <th>Coupon_id</th>\n",
       "      <th>Discount_rate</th>\n",
       "      <th>Date_received</th>\n",
       "      <th>Date</th>\n",
       "    </tr>\n",
       "  </thead>\n",
       "  <tbody>\n",
       "    <tr>\n",
       "      <th>0</th>\n",
       "      <td>13740231</td>\n",
       "      <td>18907</td>\n",
       "      <td>2</td>\n",
       "      <td>100017492</td>\n",
       "      <td>500:50</td>\n",
       "      <td>20160513</td>\n",
       "      <td>null</td>\n",
       "    </tr>\n",
       "    <tr>\n",
       "      <th>1</th>\n",
       "      <td>13740231</td>\n",
       "      <td>34805</td>\n",
       "      <td>1</td>\n",
       "      <td>null</td>\n",
       "      <td>null</td>\n",
       "      <td>null</td>\n",
       "      <td>20160321</td>\n",
       "    </tr>\n",
       "    <tr>\n",
       "      <th>2</th>\n",
       "      <td>14336199</td>\n",
       "      <td>18907</td>\n",
       "      <td>0</td>\n",
       "      <td>null</td>\n",
       "      <td>null</td>\n",
       "      <td>null</td>\n",
       "      <td>20160618</td>\n",
       "    </tr>\n",
       "    <tr>\n",
       "      <th>3</th>\n",
       "      <td>14336199</td>\n",
       "      <td>18907</td>\n",
       "      <td>0</td>\n",
       "      <td>null</td>\n",
       "      <td>null</td>\n",
       "      <td>null</td>\n",
       "      <td>20160618</td>\n",
       "    </tr>\n",
       "    <tr>\n",
       "      <th>4</th>\n",
       "      <td>14336199</td>\n",
       "      <td>18907</td>\n",
       "      <td>0</td>\n",
       "      <td>null</td>\n",
       "      <td>null</td>\n",
       "      <td>null</td>\n",
       "      <td>20160618</td>\n",
       "    </tr>\n",
       "  </tbody>\n",
       "</table>\n",
       "</div>"
      ],
      "text/plain": [
       "    User_id  Merchant_id  Action  Coupon_id Discount_rate Date_received  \\\n",
       "0  13740231        18907       2  100017492        500:50      20160513   \n",
       "1  13740231        34805       1       null          null          null   \n",
       "2  14336199        18907       0       null          null          null   \n",
       "3  14336199        18907       0       null          null          null   \n",
       "4  14336199        18907       0       null          null          null   \n",
       "\n",
       "       Date  \n",
       "0      null  \n",
       "1  20160321  \n",
       "2  20160618  \n",
       "3  20160618  \n",
       "4  20160618  "
      ]
     },
     "execution_count": 6,
     "metadata": {},
     "output_type": "execute_result"
    }
   ],
   "source": [
    "on_train.head()"
   ]
  },
  {
   "cell_type": "code",
   "execution_count": 10,
   "metadata": {},
   "outputs": [
    {
     "name": "stdout",
     "output_type": "stream",
     "text": [
      "<class 'pandas.core.frame.DataFrame'>\n",
      "RangeIndex: 11429826 entries, 0 to 11429825\n",
      "Data columns (total 7 columns):\n",
      "User_id          int64\n",
      "Merchant_id      int64\n",
      "Action           int64\n",
      "Coupon_id        object\n",
      "Discount_rate    object\n",
      "Date_received    object\n",
      "Date             object\n",
      "dtypes: int64(3), object(4)\n",
      "memory usage: 610.4+ MB\n"
     ]
    }
   ],
   "source": [
    "on_train.info()"
   ]
  },
  {
   "cell_type": "markdown",
   "metadata": {},
   "source": [
    "## 查看优惠券和购买商品不同组合的情况"
   ]
  },
  {
   "cell_type": "code",
   "execution_count": 11,
   "metadata": {},
   "outputs": [
    {
     "name": "stdout",
     "output_type": "stream",
     "text": [
      "有优惠券，购买商品条数 75382\n",
      "无优惠券，购买商品条数 701602\n",
      "有优惠券，不购买商品条数 977900\n",
      "无优惠券，不购买商品条数 0\n"
     ]
    }
   ],
   "source": [
    "print('有优惠券，购买商品条数', off_train[(off_train['Date_received'] != 'null') & (off_train['Date'] != 'null')].shape[0])\n",
    "print('无优惠券，购买商品条数', off_train[(off_train['Date_received'] == 'null') & (off_train['Date'] != 'null')].shape[0])\n",
    "print('有优惠券，不购买商品条数', off_train[(off_train['Date_received'] != 'null') & (off_train['Date'] == 'null')].shape[0])\n",
    "print('无优惠券，不购买商品条数', off_train[(off_train['Date_received'] == 'null') & (off_train['Date'] == 'null')].shape[0])"
   ]
  },
  {
   "cell_type": "markdown",
   "metadata": {},
   "source": [
    "## 查看测试集和训练集中用户和商户的不同"
   ]
  },
  {
   "cell_type": "code",
   "execution_count": 19,
   "metadata": {},
   "outputs": [
    {
     "name": "stdout",
     "output_type": "stream",
     "text": [
      "1. User_id in training set but not in test set {2495873, 1286474}\n",
      "2. Merchant_id in training set but not in test set {5920}\n"
     ]
    }
   ],
   "source": [
    "# 在测试集中出现的用户但训练集没有出现  这个是新用户编号  有结果知道有两个新用户\n",
    "print('1. User_id in training set but not in test set', set(off_test['User_id']) - set(off_train['User_id']))\n",
    "# 在测试集中出现的商户但训练集没有出现 商户有一个是新的\n",
    "print('2. Merchant_id in training set but not in test set', set(off_test['Merchant_id']) - set(off_train['Merchant_id']))"
   ]
  },
  {
   "cell_type": "markdown",
   "metadata": {},
   "source": [
    "## 查看数据类型"
   ]
  },
  {
   "cell_type": "code",
   "execution_count": 21,
   "metadata": {},
   "outputs": [
    {
     "name": "stdout",
     "output_type": "stream",
     "text": [
      "Discount_rate 类型: ['null' '150:20' '20:1' '200:20' '30:5' '50:10' '10:5' '100:10' '200:30'\n",
      " '20:5' '30:10' '50:5' '150:10' '100:30' '200:50' '100:50' '300:30'\n",
      " '50:20' '0.9' '10:1' '30:1' '0.95' '100:5' '5:1' '100:20' '0.8' '50:1'\n",
      " '200:10' '300:20' '100:1' '150:30' '300:50' '20:10' '0.85' '0.6' '150:50'\n",
      " '0.75' '0.5' '200:5' '0.7' '30:20' '300:10' '0.2' '50:30' '200:100'\n",
      " '150:5']\n",
      "Distance 类型: ['0' '1' 'null' '2' '10' '4' '7' '9' '3' '5' '6' '8']\n"
     ]
    }
   ],
   "source": [
    "print('Discount_rate 类型:',off_train['Discount_rate'].unique())\n",
    "print('Distance 类型:', off_train['Distance'].unique())"
   ]
  },
  {
   "cell_type": "markdown",
   "metadata": {},
   "source": [
    "## 更换特征名称"
   ]
  },
  {
   "cell_type": "code",
   "execution_count": 23,
   "metadata": {},
   "outputs": [],
   "source": [
    "# 更换特征名称\n",
    "off_train.columns=['user_id','merchant_id','coupon_id','discount_rate','distance','date_received','date']\n",
    "off_test.columns = ['user_id','merchant_id','coupon_id','discount_rate','distance','date_received']\n",
    "on_train.columns = ['user_id','merchant_id','action','coupon_id','discount_rate','date_received','date']"
   ]
  },
  {
   "cell_type": "markdown",
   "metadata": {},
   "source": [
    "# 数据分批处理"
   ]
  },
  {
   "cell_type": "markdown",
   "metadata": {},
   "source": [
    "#将数据分为3个数据集 利用滑窗法\n",
    "#将2016年1月1日到4月13日的数据提取特征，利用4月14日的到5月14日的作为测试集\n",
    "#将2月1日到5月14日的作为数据集提取特征，利用5月15日6月15日的作为测试集\n",
    "#将3月15日到6月30日作为数据集提取特征，再测试7月1日到7月31日的数据"
   ]
  },
  {
   "cell_type": "markdown",
   "metadata": {},
   "source": [
    "## 交叉验证集一"
   ]
  },
  {
   "cell_type": "code",
   "execution_count": 216,
   "metadata": {},
   "outputs": [],
   "source": [
    "# 将2016年1月1日到4月13日的数据提取特征\n",
    "feature1 = off_train[(off_train.date >= '20160101') & (off_train.date <= '20160413') | (\n",
    "    (off_train.date == 'null') & (off_train.date_received >= '20160101') & (off_train.date_received <= '20160413'))]\n",
    "# 利用4月14日的到5月14日的作为测试集\n",
    "dataset1 = off_train[(off_train.date_received >= '201604014')\n",
    "                     & (off_train.date_received <= '20160514')]"
   ]
  },
  {
   "cell_type": "markdown",
   "metadata": {},
   "source": [
    "## 交叉验证集二"
   ]
  },
  {
   "cell_type": "code",
   "execution_count": 25,
   "metadata": {},
   "outputs": [],
   "source": [
    "# 在2月1日到5月14日之间使用了券,只要领取时间在2月1日到5月14日之间,并包括没有数据中没有领取券的\n",
    "feature2 = off_train[(off_train.date >= '20160201') & (off_train.date <= '20160514') | (\n",
    "    (off_train.date == 'null') & (off_train.date_received >= '20160201') & (off_train.date_received <= '20160514'))]\n",
    "# 提取数据集2的测试集\n",
    "dataset2 = off_train[(off_train.date_received >= '20160515')\n",
    "                     & (off_train.date_received <= '20160615')]"
   ]
  },
  {
   "cell_type": "markdown",
   "metadata": {},
   "source": [
    "## 测试集"
   ]
  },
  {
   "cell_type": "code",
   "execution_count": 26,
   "metadata": {},
   "outputs": [],
   "source": [
    "# 数据集3的特征为 取数据中领券和用券日期大于3月15日和小于6月30日的\n",
    "feature3 = off_train[((off_train.date >= '20160315') & (off_train.date <= '20160630')) | (\n",
    "    (off_train.date == 'null') & (off_train.date_received >= '20160315') & (off_train.date_received <= '20160630'))]\n",
    "# 使数据集3等于test集 没有label标签\n",
    "dataset3 = off_test"
   ]
  },
  {
   "cell_type": "markdown",
   "metadata": {},
   "source": [
    "# 特征工程"
   ]
  },
  {
   "cell_type": "markdown",
   "metadata": {},
   "source": [
    "## 其他特征处理"
   ]
  },
  {
   "cell_type": "markdown",
   "metadata": {},
   "source": [
    "### 分析这段实际时间用户收取的所有的优惠券数目"
   ]
  },
  {
   "cell_type": "code",
   "execution_count": 45,
   "metadata": {},
   "outputs": [
    {
     "name": "stderr",
     "output_type": "stream",
     "text": [
      "/Users/houxiaojun/.virtualenvs/testai/lib/python3.7/site-packages/ipykernel_launcher.py:3: SettingWithCopyWarning: \n",
      "A value is trying to be set on a copy of a slice from a DataFrame.\n",
      "Try using .loc[row_indexer,col_indexer] = value instead\n",
      "\n",
      "See the caveats in the documentation: http://pandas.pydata.org/pandas-docs/stable/indexing.html#indexing-view-versus-copy\n",
      "  This is separate from the ipykernel package so we can avoid doing imports until\n"
     ]
    }
   ],
   "source": [
    "t = dataset1[['user_id']]\n",
    "# 相当于给原有数据加上一列，这个月用户收取的所有优惠券数目，并初始化为1\n",
    "t['this_month_user_receive_all_coupon_count'] = 1\n",
    "# reset_index()--drop:默认为False，不删除原来索引，如果为True,删除原来的索引值\n",
    "t = t.groupby('user_id').agg('sum').reset_index()"
   ]
  },
  {
   "cell_type": "markdown",
   "metadata": {},
   "source": [
    "### 分析用户收到相同优惠券的数量"
   ]
  },
  {
   "cell_type": "code",
   "execution_count": 218,
   "metadata": {},
   "outputs": [
    {
     "data": {
      "text/html": [
       "<div>\n",
       "<style scoped>\n",
       "    .dataframe tbody tr th:only-of-type {\n",
       "        vertical-align: middle;\n",
       "    }\n",
       "\n",
       "    .dataframe tbody tr th {\n",
       "        vertical-align: top;\n",
       "    }\n",
       "\n",
       "    .dataframe thead th {\n",
       "        text-align: right;\n",
       "    }\n",
       "</style>\n",
       "<table border=\"1\" class=\"dataframe\">\n",
       "  <thead>\n",
       "    <tr style=\"text-align: right;\">\n",
       "      <th></th>\n",
       "      <th>user_id</th>\n",
       "      <th>merchant_id</th>\n",
       "      <th>coupon_id</th>\n",
       "      <th>discount_rate</th>\n",
       "      <th>distance</th>\n",
       "      <th>date_received</th>\n",
       "      <th>date</th>\n",
       "    </tr>\n",
       "  </thead>\n",
       "  <tbody>\n",
       "    <tr>\n",
       "      <th>7</th>\n",
       "      <td>1832624</td>\n",
       "      <td>3381</td>\n",
       "      <td>7610</td>\n",
       "      <td>200:20</td>\n",
       "      <td>0</td>\n",
       "      <td>20160429</td>\n",
       "      <td>null</td>\n",
       "    </tr>\n",
       "    <tr>\n",
       "      <th>18</th>\n",
       "      <td>163606</td>\n",
       "      <td>1569</td>\n",
       "      <td>5054</td>\n",
       "      <td>200:30</td>\n",
       "      <td>10</td>\n",
       "      <td>20160421</td>\n",
       "      <td>null</td>\n",
       "    </tr>\n",
       "    <tr>\n",
       "      <th>20</th>\n",
       "      <td>94107</td>\n",
       "      <td>3381</td>\n",
       "      <td>7610</td>\n",
       "      <td>200:20</td>\n",
       "      <td>2</td>\n",
       "      <td>20160412</td>\n",
       "      <td>null</td>\n",
       "    </tr>\n",
       "    <tr>\n",
       "      <th>43</th>\n",
       "      <td>4061024</td>\n",
       "      <td>3381</td>\n",
       "      <td>7610</td>\n",
       "      <td>200:20</td>\n",
       "      <td>10</td>\n",
       "      <td>20160426</td>\n",
       "      <td>null</td>\n",
       "    </tr>\n",
       "    <tr>\n",
       "      <th>44</th>\n",
       "      <td>4061024</td>\n",
       "      <td>7555</td>\n",
       "      <td>9871</td>\n",
       "      <td>30:5</td>\n",
       "      <td>10</td>\n",
       "      <td>20160409</td>\n",
       "      <td>null</td>\n",
       "    </tr>\n",
       "  </tbody>\n",
       "</table>\n",
       "</div>"
      ],
      "text/plain": [
       "    user_id  merchant_id coupon_id discount_rate distance date_received  date\n",
       "7   1832624         3381      7610        200:20        0      20160429  null\n",
       "18   163606         1569      5054        200:30       10      20160421  null\n",
       "20    94107         3381      7610        200:20        2      20160412  null\n",
       "43  4061024         3381      7610        200:20       10      20160426  null\n",
       "44  4061024         7555      9871          30:5       10      20160409  null"
      ]
     },
     "execution_count": 218,
     "metadata": {},
     "output_type": "execute_result"
    }
   ],
   "source": [
    "dataset1.head()"
   ]
  },
  {
   "cell_type": "code",
   "execution_count": 47,
   "metadata": {},
   "outputs": [
    {
     "name": "stderr",
     "output_type": "stream",
     "text": [
      "/Users/houxiaojun/.virtualenvs/testai/lib/python3.7/site-packages/ipykernel_launcher.py:4: SettingWithCopyWarning: \n",
      "A value is trying to be set on a copy of a slice from a DataFrame.\n",
      "Try using .loc[row_indexer,col_indexer] = value instead\n",
      "\n",
      "See the caveats in the documentation: http://pandas.pydata.org/pandas-docs/stable/indexing.html#indexing-view-versus-copy\n",
      "  after removing the cwd from sys.path.\n"
     ]
    }
   ],
   "source": [
    "# 提取数据集1的优惠券Id和用户Id\n",
    "t1 = dataset1[['user_id', 'coupon_id']]\n",
    "# 提取这个月用户收到的相同的优惠券的数量\n",
    "t1['this_month_user_receive_same_coupn_count'] = 1\n",
    "t1 = t1.groupby(['user_id', 'coupon_id']).agg('sum').reset_index()"
   ]
  },
  {
   "cell_type": "code",
   "execution_count": 214,
   "metadata": {},
   "outputs": [
    {
     "data": {
      "text/html": [
       "<div>\n",
       "<style scoped>\n",
       "    .dataframe tbody tr th:only-of-type {\n",
       "        vertical-align: middle;\n",
       "    }\n",
       "\n",
       "    .dataframe tbody tr th {\n",
       "        vertical-align: top;\n",
       "    }\n",
       "\n",
       "    .dataframe thead th {\n",
       "        text-align: right;\n",
       "    }\n",
       "</style>\n",
       "<table border=\"1\" class=\"dataframe\">\n",
       "  <thead>\n",
       "    <tr style=\"text-align: right;\">\n",
       "      <th></th>\n",
       "      <th>user_id</th>\n",
       "      <th>merchant_id</th>\n",
       "      <th>user_merchant_received</th>\n",
       "    </tr>\n",
       "  </thead>\n",
       "  <tbody>\n",
       "    <tr>\n",
       "      <th>0</th>\n",
       "      <td>4</td>\n",
       "      <td>1433</td>\n",
       "      <td>1</td>\n",
       "    </tr>\n",
       "    <tr>\n",
       "      <th>1</th>\n",
       "      <td>35</td>\n",
       "      <td>3381</td>\n",
       "      <td>4</td>\n",
       "    </tr>\n",
       "    <tr>\n",
       "      <th>2</th>\n",
       "      <td>36</td>\n",
       "      <td>1041</td>\n",
       "      <td>1</td>\n",
       "    </tr>\n",
       "    <tr>\n",
       "      <th>3</th>\n",
       "      <td>36</td>\n",
       "      <td>5717</td>\n",
       "      <td>1</td>\n",
       "    </tr>\n",
       "    <tr>\n",
       "      <th>4</th>\n",
       "      <td>64</td>\n",
       "      <td>2146</td>\n",
       "      <td>1</td>\n",
       "    </tr>\n",
       "  </tbody>\n",
       "</table>\n",
       "</div>"
      ],
      "text/plain": [
       "   user_id  merchant_id  user_merchant_received\n",
       "0        4         1433                       1\n",
       "1       35         3381                       4\n",
       "2       36         1041                       1\n",
       "3       36         5717                       1\n",
       "4       64         2146                       1"
      ]
     },
     "execution_count": 214,
     "metadata": {},
     "output_type": "execute_result"
    }
   ],
   "source": [
    "t1.head()"
   ]
  },
  {
   "cell_type": "markdown",
   "metadata": {},
   "source": [
    "### 分析用户接受优惠券的最大时间和最小时间"
   ]
  },
  {
   "cell_type": "code",
   "execution_count": 49,
   "metadata": {},
   "outputs": [
    {
     "name": "stderr",
     "output_type": "stream",
     "text": [
      "/Users/houxiaojun/.virtualenvs/testai/lib/python3.7/site-packages/pandas/core/generic.py:5096: SettingWithCopyWarning: \n",
      "A value is trying to be set on a copy of a slice from a DataFrame.\n",
      "Try using .loc[row_indexer,col_indexer] = value instead\n",
      "\n",
      "See the caveats in the documentation: http://pandas.pydata.org/pandas-docs/stable/indexing.html#indexing-view-versus-copy\n",
      "  self[name] = value\n"
     ]
    }
   ],
   "source": [
    "# 提取数据集1的用户id，优惠券id以及优惠券接收的时间\n",
    "t2 = dataset1[['user_id', 'coupon_id', 'date_received']]\n",
    "# 将数据转换为str类型\n",
    "t2.date_received = t2.date_received.astype('str')\n",
    "# 如果出现相同的用户接收相同的优惠券在接收时间上用‘：’连接上第n次接受优惠券的时间\n",
    "t2 = t2.groupby(['user_id', 'coupon_id'])['date_received'].agg(\n",
    "    lambda x: ':'.join(x)).reset_index()\n"
   ]
  },
  {
   "cell_type": "code",
   "execution_count": 51,
   "metadata": {},
   "outputs": [],
   "source": [
    "# 将接收时间的一组按着':'分开，这样就可以计算接受了优惠券的数量,apply是合并\n",
    "t2['receive_number'] = t2.date_received.apply(lambda s: len(s.split(':')))\n",
    "t2 = t2[t2.receive_number > 1]"
   ]
  },
  {
   "cell_type": "code",
   "execution_count": 57,
   "metadata": {},
   "outputs": [
    {
     "name": "stderr",
     "output_type": "stream",
     "text": [
      "/Users/houxiaojun/.virtualenvs/testai/lib/python3.7/site-packages/ipykernel_launcher.py:3: SettingWithCopyWarning: \n",
      "A value is trying to be set on a copy of a slice from a DataFrame.\n",
      "Try using .loc[row_indexer,col_indexer] = value instead\n",
      "\n",
      "See the caveats in the documentation: http://pandas.pydata.org/pandas-docs/stable/indexing.html#indexing-view-versus-copy\n",
      "  This is separate from the ipykernel package so we can avoid doing imports until\n",
      "/Users/houxiaojun/.virtualenvs/testai/lib/python3.7/site-packages/ipykernel_launcher.py:6: SettingWithCopyWarning: \n",
      "A value is trying to be set on a copy of a slice from a DataFrame.\n",
      "Try using .loc[row_indexer,col_indexer] = value instead\n",
      "\n",
      "See the caveats in the documentation: http://pandas.pydata.org/pandas-docs/stable/indexing.html#indexing-view-versus-copy\n",
      "  \n"
     ]
    }
   ],
   "source": [
    "# 最大接受的日期\n",
    "t2['max_date_received'] = t2.date_received.apply(\n",
    "    lambda s: max([int(d) for d in s.split(':')]))\n",
    "# 最小的接收日期\n",
    "t2['min_date_received'] = t2.date_received.apply(\n",
    "    lambda s: min([int(d) for d in s.split(':')]))\n"
   ]
  },
  {
   "cell_type": "code",
   "execution_count": 59,
   "metadata": {},
   "outputs": [],
   "source": [
    "t2 = t2[['user_id', 'coupon_id', 'max_date_received', 'min_date_received']]"
   ]
  },
  {
   "cell_type": "code",
   "execution_count": 65,
   "metadata": {},
   "outputs": [
    {
     "data": {
      "text/html": [
       "<div>\n",
       "<style scoped>\n",
       "    .dataframe tbody tr th:only-of-type {\n",
       "        vertical-align: middle;\n",
       "    }\n",
       "\n",
       "    .dataframe tbody tr th {\n",
       "        vertical-align: top;\n",
       "    }\n",
       "\n",
       "    .dataframe thead th {\n",
       "        text-align: right;\n",
       "    }\n",
       "</style>\n",
       "<table border=\"1\" class=\"dataframe\">\n",
       "  <thead>\n",
       "    <tr style=\"text-align: right;\">\n",
       "      <th></th>\n",
       "      <th>user_id</th>\n",
       "      <th>coupon_id</th>\n",
       "      <th>max_date_received</th>\n",
       "      <th>min_date_received</th>\n",
       "    </tr>\n",
       "  </thead>\n",
       "  <tbody>\n",
       "    <tr>\n",
       "      <th>51</th>\n",
       "      <td>2227</td>\n",
       "      <td>7088</td>\n",
       "      <td>20160511</td>\n",
       "      <td>20160426</td>\n",
       "    </tr>\n",
       "    <tr>\n",
       "      <th>198</th>\n",
       "      <td>8397</td>\n",
       "      <td>8556</td>\n",
       "      <td>20160506</td>\n",
       "      <td>20160425</td>\n",
       "    </tr>\n",
       "    <tr>\n",
       "      <th>218</th>\n",
       "      <td>9527</td>\n",
       "      <td>9416</td>\n",
       "      <td>20160409</td>\n",
       "      <td>20160406</td>\n",
       "    </tr>\n",
       "    <tr>\n",
       "      <th>220</th>\n",
       "      <td>9653</td>\n",
       "      <td>2109</td>\n",
       "      <td>20160506</td>\n",
       "      <td>20160424</td>\n",
       "    </tr>\n",
       "    <tr>\n",
       "      <th>224</th>\n",
       "      <td>9690</td>\n",
       "      <td>7224</td>\n",
       "      <td>20160419</td>\n",
       "      <td>20160417</td>\n",
       "    </tr>\n",
       "  </tbody>\n",
       "</table>\n",
       "</div>"
      ],
      "text/plain": [
       "     user_id coupon_id  max_date_received  min_date_received\n",
       "51      2227      7088           20160511           20160426\n",
       "198     8397      8556           20160506           20160425\n",
       "218     9527      9416           20160409           20160406\n",
       "220     9653      2109           20160506           20160424\n",
       "224     9690      7224           20160419           20160417"
      ]
     },
     "execution_count": 65,
     "metadata": {},
     "output_type": "execute_result"
    }
   ],
   "source": [
    "t2.head()"
   ]
  },
  {
   "cell_type": "markdown",
   "metadata": {},
   "source": [
    "### 分析用户使用的优惠券数量 一次还是多次"
   ]
  },
  {
   "cell_type": "code",
   "execution_count": 62,
   "metadata": {},
   "outputs": [],
   "source": [
    "t3 = dataset1[['user_id', 'coupon_id', 'date_received']]\n",
    "# 将两表融合只保留左表数据,这样得到的表，相当于保留了最近接收时间和最远接受时间\n",
    "t3 = pd.merge(t3, t2, on=['user_id', 'coupon_id'], how='left')"
   ]
  },
  {
   "cell_type": "code",
   "execution_count": 67,
   "metadata": {},
   "outputs": [
    {
     "data": {
      "text/html": [
       "<div>\n",
       "<style scoped>\n",
       "    .dataframe tbody tr th:only-of-type {\n",
       "        vertical-align: middle;\n",
       "    }\n",
       "\n",
       "    .dataframe tbody tr th {\n",
       "        vertical-align: top;\n",
       "    }\n",
       "\n",
       "    .dataframe thead th {\n",
       "        text-align: right;\n",
       "    }\n",
       "</style>\n",
       "<table border=\"1\" class=\"dataframe\">\n",
       "  <thead>\n",
       "    <tr style=\"text-align: right;\">\n",
       "      <th></th>\n",
       "      <th>user_id</th>\n",
       "      <th>coupon_id</th>\n",
       "      <th>date_received</th>\n",
       "      <th>max_date_received</th>\n",
       "      <th>min_date_received</th>\n",
       "    </tr>\n",
       "  </thead>\n",
       "  <tbody>\n",
       "    <tr>\n",
       "      <th>0</th>\n",
       "      <td>1832624</td>\n",
       "      <td>7610</td>\n",
       "      <td>20160429</td>\n",
       "      <td>NaN</td>\n",
       "      <td>NaN</td>\n",
       "    </tr>\n",
       "    <tr>\n",
       "      <th>1</th>\n",
       "      <td>163606</td>\n",
       "      <td>5054</td>\n",
       "      <td>20160421</td>\n",
       "      <td>NaN</td>\n",
       "      <td>NaN</td>\n",
       "    </tr>\n",
       "    <tr>\n",
       "      <th>2</th>\n",
       "      <td>94107</td>\n",
       "      <td>7610</td>\n",
       "      <td>20160412</td>\n",
       "      <td>NaN</td>\n",
       "      <td>NaN</td>\n",
       "    </tr>\n",
       "    <tr>\n",
       "      <th>3</th>\n",
       "      <td>4061024</td>\n",
       "      <td>7610</td>\n",
       "      <td>20160426</td>\n",
       "      <td>NaN</td>\n",
       "      <td>NaN</td>\n",
       "    </tr>\n",
       "    <tr>\n",
       "      <th>4</th>\n",
       "      <td>4061024</td>\n",
       "      <td>9871</td>\n",
       "      <td>20160409</td>\n",
       "      <td>NaN</td>\n",
       "      <td>NaN</td>\n",
       "    </tr>\n",
       "  </tbody>\n",
       "</table>\n",
       "</div>"
      ],
      "text/plain": [
       "   user_id coupon_id date_received  max_date_received  min_date_received\n",
       "0  1832624      7610      20160429                NaN                NaN\n",
       "1   163606      5054      20160421                NaN                NaN\n",
       "2    94107      7610      20160412                NaN                NaN\n",
       "3  4061024      7610      20160426                NaN                NaN\n",
       "4  4061024      9871      20160409                NaN                NaN"
      ]
     },
     "execution_count": 67,
     "metadata": {},
     "output_type": "execute_result"
    }
   ],
   "source": [
    "t3.head()"
   ]
  },
  {
   "cell_type": "code",
   "execution_count": 68,
   "metadata": {},
   "outputs": [],
   "source": [
    "# 这个优惠券最近接受时间\n",
    "t3['this_month_user_receive_same_coupon_lastone'] = t3.max_date_received - \\\n",
    "    t3.date_received.astype(int)\n",
    "# 这个优惠券最远接受时间\n",
    "t3['this_month_user_receive_same_coupon_firstone'] = t3.date_received.astype(\n",
    "    int)-t3.min_date_received"
   ]
  },
  {
   "cell_type": "code",
   "execution_count": 72,
   "metadata": {},
   "outputs": [
    {
     "data": {
      "text/plain": [
       "0   NaN\n",
       "1   NaN\n",
       "2   NaN\n",
       "3   NaN\n",
       "4   NaN\n",
       "Name: max_date_received, dtype: float64"
      ]
     },
     "execution_count": 72,
     "metadata": {},
     "output_type": "execute_result"
    }
   ],
   "source": [
    "t3.max_date_received.head()"
   ]
  },
  {
   "cell_type": "code",
   "execution_count": 70,
   "metadata": {},
   "outputs": [
    {
     "data": {
      "text/html": [
       "<div>\n",
       "<style scoped>\n",
       "    .dataframe tbody tr th:only-of-type {\n",
       "        vertical-align: middle;\n",
       "    }\n",
       "\n",
       "    .dataframe tbody tr th {\n",
       "        vertical-align: top;\n",
       "    }\n",
       "\n",
       "    .dataframe thead th {\n",
       "        text-align: right;\n",
       "    }\n",
       "</style>\n",
       "<table border=\"1\" class=\"dataframe\">\n",
       "  <thead>\n",
       "    <tr style=\"text-align: right;\">\n",
       "      <th></th>\n",
       "      <th>user_id</th>\n",
       "      <th>coupon_id</th>\n",
       "      <th>date_received</th>\n",
       "      <th>max_date_received</th>\n",
       "      <th>min_date_received</th>\n",
       "      <th>this_month_user_receive_same_coupon_lastone</th>\n",
       "      <th>this_month_user_receive_same_coupon_firstone</th>\n",
       "    </tr>\n",
       "  </thead>\n",
       "  <tbody>\n",
       "    <tr>\n",
       "      <th>182073</th>\n",
       "      <td>457900</td>\n",
       "      <td>13118</td>\n",
       "      <td>20160418</td>\n",
       "      <td>NaN</td>\n",
       "      <td>NaN</td>\n",
       "      <td>NaN</td>\n",
       "      <td>NaN</td>\n",
       "    </tr>\n",
       "    <tr>\n",
       "      <th>182074</th>\n",
       "      <td>4056416</td>\n",
       "      <td>3469</td>\n",
       "      <td>20160514</td>\n",
       "      <td>NaN</td>\n",
       "      <td>NaN</td>\n",
       "      <td>NaN</td>\n",
       "      <td>NaN</td>\n",
       "    </tr>\n",
       "    <tr>\n",
       "      <th>182075</th>\n",
       "      <td>188086</td>\n",
       "      <td>4723</td>\n",
       "      <td>20160415</td>\n",
       "      <td>NaN</td>\n",
       "      <td>NaN</td>\n",
       "      <td>NaN</td>\n",
       "      <td>NaN</td>\n",
       "    </tr>\n",
       "    <tr>\n",
       "      <th>182076</th>\n",
       "      <td>212662</td>\n",
       "      <td>3739</td>\n",
       "      <td>20160504</td>\n",
       "      <td>20160508.0</td>\n",
       "      <td>20160504.0</td>\n",
       "      <td>4.0</td>\n",
       "      <td>0.0</td>\n",
       "    </tr>\n",
       "    <tr>\n",
       "      <th>182077</th>\n",
       "      <td>212662</td>\n",
       "      <td>3739</td>\n",
       "      <td>20160508</td>\n",
       "      <td>20160508.0</td>\n",
       "      <td>20160504.0</td>\n",
       "      <td>0.0</td>\n",
       "      <td>4.0</td>\n",
       "    </tr>\n",
       "  </tbody>\n",
       "</table>\n",
       "</div>"
      ],
      "text/plain": [
       "        user_id coupon_id date_received  max_date_received  min_date_received  \\\n",
       "182073   457900     13118      20160418                NaN                NaN   \n",
       "182074  4056416      3469      20160514                NaN                NaN   \n",
       "182075   188086      4723      20160415                NaN                NaN   \n",
       "182076   212662      3739      20160504         20160508.0         20160504.0   \n",
       "182077   212662      3739      20160508         20160508.0         20160504.0   \n",
       "\n",
       "        this_month_user_receive_same_coupon_lastone  \\\n",
       "182073                                          NaN   \n",
       "182074                                          NaN   \n",
       "182075                                          NaN   \n",
       "182076                                          4.0   \n",
       "182077                                          0.0   \n",
       "\n",
       "        this_month_user_receive_same_coupon_firstone  \n",
       "182073                                           NaN  \n",
       "182074                                           NaN  \n",
       "182075                                           NaN  \n",
       "182076                                           0.0  \n",
       "182077                                           4.0  "
      ]
     },
     "execution_count": 70,
     "metadata": {},
     "output_type": "execute_result"
    }
   ],
   "source": [
    "t3.tail()"
   ]
  },
  {
   "cell_type": "code",
   "execution_count": 74,
   "metadata": {},
   "outputs": [],
   "source": [
    "def is_firstlastone(x):\n",
    "    if x==0:\n",
    "        return 1\n",
    "    elif x>0:\n",
    "        return 0\n",
    "    else:\n",
    "        return -1 # 表明这个优惠券只接受了一次"
   ]
  },
  {
   "cell_type": "code",
   "execution_count": 75,
   "metadata": {},
   "outputs": [],
   "source": [
    "t3.this_month_user_receive_same_coupon_lastone = t3.this_month_user_receive_same_coupon_lastone.apply(\n",
    "    is_firstlastone)\n",
    "t3.this_month_user_receive_same_coupon_firstone = t3.this_month_user_receive_same_coupon_firstone.apply(\n",
    "    is_firstlastone)"
   ]
  },
  {
   "cell_type": "code",
   "execution_count": 76,
   "metadata": {},
   "outputs": [
    {
     "data": {
      "text/html": [
       "<div>\n",
       "<style scoped>\n",
       "    .dataframe tbody tr th:only-of-type {\n",
       "        vertical-align: middle;\n",
       "    }\n",
       "\n",
       "    .dataframe tbody tr th {\n",
       "        vertical-align: top;\n",
       "    }\n",
       "\n",
       "    .dataframe thead th {\n",
       "        text-align: right;\n",
       "    }\n",
       "</style>\n",
       "<table border=\"1\" class=\"dataframe\">\n",
       "  <thead>\n",
       "    <tr style=\"text-align: right;\">\n",
       "      <th></th>\n",
       "      <th>user_id</th>\n",
       "      <th>coupon_id</th>\n",
       "      <th>date_received</th>\n",
       "      <th>max_date_received</th>\n",
       "      <th>min_date_received</th>\n",
       "      <th>this_month_user_receive_same_coupon_lastone</th>\n",
       "      <th>this_month_user_receive_same_coupon_firstone</th>\n",
       "    </tr>\n",
       "  </thead>\n",
       "  <tbody>\n",
       "    <tr>\n",
       "      <th>182073</th>\n",
       "      <td>457900</td>\n",
       "      <td>13118</td>\n",
       "      <td>20160418</td>\n",
       "      <td>NaN</td>\n",
       "      <td>NaN</td>\n",
       "      <td>-1</td>\n",
       "      <td>-1</td>\n",
       "    </tr>\n",
       "    <tr>\n",
       "      <th>182074</th>\n",
       "      <td>4056416</td>\n",
       "      <td>3469</td>\n",
       "      <td>20160514</td>\n",
       "      <td>NaN</td>\n",
       "      <td>NaN</td>\n",
       "      <td>-1</td>\n",
       "      <td>-1</td>\n",
       "    </tr>\n",
       "    <tr>\n",
       "      <th>182075</th>\n",
       "      <td>188086</td>\n",
       "      <td>4723</td>\n",
       "      <td>20160415</td>\n",
       "      <td>NaN</td>\n",
       "      <td>NaN</td>\n",
       "      <td>-1</td>\n",
       "      <td>-1</td>\n",
       "    </tr>\n",
       "    <tr>\n",
       "      <th>182076</th>\n",
       "      <td>212662</td>\n",
       "      <td>3739</td>\n",
       "      <td>20160504</td>\n",
       "      <td>20160508.0</td>\n",
       "      <td>20160504.0</td>\n",
       "      <td>0</td>\n",
       "      <td>1</td>\n",
       "    </tr>\n",
       "    <tr>\n",
       "      <th>182077</th>\n",
       "      <td>212662</td>\n",
       "      <td>3739</td>\n",
       "      <td>20160508</td>\n",
       "      <td>20160508.0</td>\n",
       "      <td>20160504.0</td>\n",
       "      <td>1</td>\n",
       "      <td>0</td>\n",
       "    </tr>\n",
       "  </tbody>\n",
       "</table>\n",
       "</div>"
      ],
      "text/plain": [
       "        user_id coupon_id date_received  max_date_received  min_date_received  \\\n",
       "182073   457900     13118      20160418                NaN                NaN   \n",
       "182074  4056416      3469      20160514                NaN                NaN   \n",
       "182075   188086      4723      20160415                NaN                NaN   \n",
       "182076   212662      3739      20160504         20160508.0         20160504.0   \n",
       "182077   212662      3739      20160508         20160508.0         20160504.0   \n",
       "\n",
       "        this_month_user_receive_same_coupon_lastone  \\\n",
       "182073                                           -1   \n",
       "182074                                           -1   \n",
       "182075                                           -1   \n",
       "182076                                            0   \n",
       "182077                                            1   \n",
       "\n",
       "        this_month_user_receive_same_coupon_firstone  \n",
       "182073                                            -1  \n",
       "182074                                            -1  \n",
       "182075                                            -1  \n",
       "182076                                             1  \n",
       "182077                                             0  "
      ]
     },
     "execution_count": 76,
     "metadata": {},
     "output_type": "execute_result"
    }
   ],
   "source": [
    "t3.tail()"
   ]
  },
  {
   "cell_type": "code",
   "execution_count": 78,
   "metadata": {},
   "outputs": [
    {
     "data": {
      "text/html": [
       "<div>\n",
       "<style scoped>\n",
       "    .dataframe tbody tr th:only-of-type {\n",
       "        vertical-align: middle;\n",
       "    }\n",
       "\n",
       "    .dataframe tbody tr th {\n",
       "        vertical-align: top;\n",
       "    }\n",
       "\n",
       "    .dataframe thead th {\n",
       "        text-align: right;\n",
       "    }\n",
       "</style>\n",
       "<table border=\"1\" class=\"dataframe\">\n",
       "  <thead>\n",
       "    <tr style=\"text-align: right;\">\n",
       "      <th></th>\n",
       "      <th>user_id</th>\n",
       "      <th>coupon_id</th>\n",
       "      <th>date_received</th>\n",
       "      <th>this_month_user_receive_same_coupon_lastone</th>\n",
       "      <th>this_month_user_receive_same_coupon_firstone</th>\n",
       "    </tr>\n",
       "  </thead>\n",
       "  <tbody>\n",
       "    <tr>\n",
       "      <th>0</th>\n",
       "      <td>1832624</td>\n",
       "      <td>7610</td>\n",
       "      <td>20160429</td>\n",
       "      <td>-1</td>\n",
       "      <td>-1</td>\n",
       "    </tr>\n",
       "    <tr>\n",
       "      <th>1</th>\n",
       "      <td>163606</td>\n",
       "      <td>5054</td>\n",
       "      <td>20160421</td>\n",
       "      <td>-1</td>\n",
       "      <td>-1</td>\n",
       "    </tr>\n",
       "    <tr>\n",
       "      <th>2</th>\n",
       "      <td>94107</td>\n",
       "      <td>7610</td>\n",
       "      <td>20160412</td>\n",
       "      <td>-1</td>\n",
       "      <td>-1</td>\n",
       "    </tr>\n",
       "    <tr>\n",
       "      <th>3</th>\n",
       "      <td>4061024</td>\n",
       "      <td>7610</td>\n",
       "      <td>20160426</td>\n",
       "      <td>-1</td>\n",
       "      <td>-1</td>\n",
       "    </tr>\n",
       "    <tr>\n",
       "      <th>4</th>\n",
       "      <td>4061024</td>\n",
       "      <td>9871</td>\n",
       "      <td>20160409</td>\n",
       "      <td>-1</td>\n",
       "      <td>-1</td>\n",
       "    </tr>\n",
       "  </tbody>\n",
       "</table>\n",
       "</div>"
      ],
      "text/plain": [
       "   user_id coupon_id date_received  \\\n",
       "0  1832624      7610      20160429   \n",
       "1   163606      5054      20160421   \n",
       "2    94107      7610      20160412   \n",
       "3  4061024      7610      20160426   \n",
       "4  4061024      9871      20160409   \n",
       "\n",
       "   this_month_user_receive_same_coupon_lastone  \\\n",
       "0                                           -1   \n",
       "1                                           -1   \n",
       "2                                           -1   \n",
       "3                                           -1   \n",
       "4                                           -1   \n",
       "\n",
       "   this_month_user_receive_same_coupon_firstone  \n",
       "0                                            -1  \n",
       "1                                            -1  \n",
       "2                                            -1  \n",
       "3                                            -1  \n",
       "4                                            -1  "
      ]
     },
     "execution_count": 78,
     "metadata": {},
     "output_type": "execute_result"
    }
   ],
   "source": [
    "# 将表格中接收优惠券日期中为最近和最远的日期时置为1其余为0，若只接受了一次优惠券为-1\n",
    "t3 = t3[['user_id', 'coupon_id', 'date_received', 'this_month_user_receive_same_coupon_lastone',\n",
    "         'this_month_user_receive_same_coupon_firstone']]\n",
    "t3.head()"
   ]
  },
  {
   "cell_type": "markdown",
   "metadata": {},
   "source": [
    "### 分析用户所接收到的所有优惠券的数量"
   ]
  },
  {
   "cell_type": "code",
   "execution_count": 79,
   "metadata": {},
   "outputs": [
    {
     "name": "stderr",
     "output_type": "stream",
     "text": [
      "/Users/houxiaojun/.virtualenvs/testai/lib/python3.7/site-packages/ipykernel_launcher.py:3: SettingWithCopyWarning: \n",
      "A value is trying to be set on a copy of a slice from a DataFrame.\n",
      "Try using .loc[row_indexer,col_indexer] = value instead\n",
      "\n",
      "See the caveats in the documentation: http://pandas.pydata.org/pandas-docs/stable/indexing.html#indexing-view-versus-copy\n",
      "  This is separate from the ipykernel package so we can avoid doing imports until\n"
     ]
    }
   ],
   "source": [
    "# 一个用户所接收到的所有优惠券的数量\n",
    "t4 = dataset1[['user_id', 'date_received']]\n",
    "t4['this_day_receive_all_coupon_count'] = 1\n",
    "t4 = t4.groupby(['user_id', 'date_received']).agg('sum').reset_index()"
   ]
  },
  {
   "cell_type": "code",
   "execution_count": 81,
   "metadata": {},
   "outputs": [
    {
     "data": {
      "text/html": [
       "<div>\n",
       "<style scoped>\n",
       "    .dataframe tbody tr th:only-of-type {\n",
       "        vertical-align: middle;\n",
       "    }\n",
       "\n",
       "    .dataframe tbody tr th {\n",
       "        vertical-align: top;\n",
       "    }\n",
       "\n",
       "    .dataframe thead th {\n",
       "        text-align: right;\n",
       "    }\n",
       "</style>\n",
       "<table border=\"1\" class=\"dataframe\">\n",
       "  <thead>\n",
       "    <tr style=\"text-align: right;\">\n",
       "      <th></th>\n",
       "      <th>user_id</th>\n",
       "      <th>date_received</th>\n",
       "      <th>this_day_receive_all_coupon_count</th>\n",
       "    </tr>\n",
       "  </thead>\n",
       "  <tbody>\n",
       "    <tr>\n",
       "      <th>0</th>\n",
       "      <td>173</td>\n",
       "      <td>20160414</td>\n",
       "      <td>1</td>\n",
       "    </tr>\n",
       "    <tr>\n",
       "      <th>1</th>\n",
       "      <td>285</td>\n",
       "      <td>20160501</td>\n",
       "      <td>1</td>\n",
       "    </tr>\n",
       "    <tr>\n",
       "      <th>2</th>\n",
       "      <td>316</td>\n",
       "      <td>20160430</td>\n",
       "      <td>1</td>\n",
       "    </tr>\n",
       "    <tr>\n",
       "      <th>3</th>\n",
       "      <td>377</td>\n",
       "      <td>20160512</td>\n",
       "      <td>1</td>\n",
       "    </tr>\n",
       "    <tr>\n",
       "      <th>4</th>\n",
       "      <td>387</td>\n",
       "      <td>20160421</td>\n",
       "      <td>1</td>\n",
       "    </tr>\n",
       "  </tbody>\n",
       "</table>\n",
       "</div>"
      ],
      "text/plain": [
       "   user_id date_received  this_day_receive_all_coupon_count\n",
       "0      173      20160414                                  1\n",
       "1      285      20160501                                  1\n",
       "2      316      20160430                                  1\n",
       "3      377      20160512                                  1\n",
       "4      387      20160421                                  1"
      ]
     },
     "execution_count": 81,
     "metadata": {},
     "output_type": "execute_result"
    }
   ],
   "source": [
    "t4.head()"
   ]
  },
  {
   "cell_type": "markdown",
   "metadata": {},
   "source": [
    "### 用户不同时间所接收到不同优惠券的数量"
   ]
  },
  {
   "cell_type": "code",
   "execution_count": 83,
   "metadata": {},
   "outputs": [
    {
     "name": "stderr",
     "output_type": "stream",
     "text": [
      "/Users/houxiaojun/.virtualenvs/testai/lib/python3.7/site-packages/ipykernel_launcher.py:3: SettingWithCopyWarning: \n",
      "A value is trying to be set on a copy of a slice from a DataFrame.\n",
      "Try using .loc[row_indexer,col_indexer] = value instead\n",
      "\n",
      "See the caveats in the documentation: http://pandas.pydata.org/pandas-docs/stable/indexing.html#indexing-view-versus-copy\n",
      "  This is separate from the ipykernel package so we can avoid doing imports until\n"
     ]
    }
   ],
   "source": [
    "# 一个用户不同时间所接收到不同优惠券的数量\n",
    "t5 = dataset1[['user_id', 'coupon_id', 'date_received']]\n",
    "t5['this_day_user_receive_same_coupon_count'] = 1\n",
    "t5 = t5.groupby(['user_id', 'coupon_id', 'date_received']\n",
    "                ).agg('sum').reset_index()"
   ]
  },
  {
   "cell_type": "code",
   "execution_count": 84,
   "metadata": {},
   "outputs": [
    {
     "data": {
      "text/html": [
       "<div>\n",
       "<style scoped>\n",
       "    .dataframe tbody tr th:only-of-type {\n",
       "        vertical-align: middle;\n",
       "    }\n",
       "\n",
       "    .dataframe tbody tr th {\n",
       "        vertical-align: top;\n",
       "    }\n",
       "\n",
       "    .dataframe thead th {\n",
       "        text-align: right;\n",
       "    }\n",
       "</style>\n",
       "<table border=\"1\" class=\"dataframe\">\n",
       "  <thead>\n",
       "    <tr style=\"text-align: right;\">\n",
       "      <th></th>\n",
       "      <th>user_id</th>\n",
       "      <th>coupon_id</th>\n",
       "      <th>date_received</th>\n",
       "      <th>this_day_user_receive_same_coupon_count</th>\n",
       "    </tr>\n",
       "  </thead>\n",
       "  <tbody>\n",
       "    <tr>\n",
       "      <th>0</th>\n",
       "      <td>173</td>\n",
       "      <td>7610</td>\n",
       "      <td>20160414</td>\n",
       "      <td>1</td>\n",
       "    </tr>\n",
       "    <tr>\n",
       "      <th>1</th>\n",
       "      <td>285</td>\n",
       "      <td>1532</td>\n",
       "      <td>20160501</td>\n",
       "      <td>1</td>\n",
       "    </tr>\n",
       "    <tr>\n",
       "      <th>2</th>\n",
       "      <td>316</td>\n",
       "      <td>8952</td>\n",
       "      <td>20160430</td>\n",
       "      <td>1</td>\n",
       "    </tr>\n",
       "    <tr>\n",
       "      <th>3</th>\n",
       "      <td>377</td>\n",
       "      <td>2857</td>\n",
       "      <td>20160512</td>\n",
       "      <td>1</td>\n",
       "    </tr>\n",
       "    <tr>\n",
       "      <th>4</th>\n",
       "      <td>387</td>\n",
       "      <td>7610</td>\n",
       "      <td>20160421</td>\n",
       "      <td>1</td>\n",
       "    </tr>\n",
       "  </tbody>\n",
       "</table>\n",
       "</div>"
      ],
      "text/plain": [
       "   user_id coupon_id date_received  this_day_user_receive_same_coupon_count\n",
       "0      173      7610      20160414                                        1\n",
       "1      285      1532      20160501                                        1\n",
       "2      316      8952      20160430                                        1\n",
       "3      377      2857      20160512                                        1\n",
       "4      387      7610      20160421                                        1"
      ]
     },
     "execution_count": 84,
     "metadata": {},
     "output_type": "execute_result"
    }
   ],
   "source": [
    "t5.head()"
   ]
  },
  {
   "cell_type": "markdown",
   "metadata": {},
   "source": [
    "### 一个用户不同优惠券 的接受时间"
   ]
  },
  {
   "cell_type": "code",
   "execution_count": 86,
   "metadata": {},
   "outputs": [
    {
     "name": "stderr",
     "output_type": "stream",
     "text": [
      "/Users/houxiaojun/.virtualenvs/testai/lib/python3.7/site-packages/pandas/core/generic.py:5096: SettingWithCopyWarning: \n",
      "A value is trying to be set on a copy of a slice from a DataFrame.\n",
      "Try using .loc[row_indexer,col_indexer] = value instead\n",
      "\n",
      "See the caveats in the documentation: http://pandas.pydata.org/pandas-docs/stable/indexing.html#indexing-view-versus-copy\n",
      "  self[name] = value\n"
     ]
    }
   ],
   "source": [
    "# 一个用户不同优惠券 的接受时间\n",
    "t6 = dataset1[['user_id', 'coupon_id', 'date_received']]\n",
    "t6.date_received = t6.date_received.astype('str')\n",
    "t6 = t6.groupby(['user_id', 'coupon_id'])['date_received'].agg(\n",
    "    lambda x: ':'.join(x)).reset_index()\n",
    "# 重命名inplace代表深拷贝\n",
    "t6.rename(columns={'date_received': 'dates'}, inplace=True)"
   ]
  },
  {
   "cell_type": "code",
   "execution_count": 89,
   "metadata": {},
   "outputs": [
    {
     "data": {
      "text/html": [
       "<div>\n",
       "<style scoped>\n",
       "    .dataframe tbody tr th:only-of-type {\n",
       "        vertical-align: middle;\n",
       "    }\n",
       "\n",
       "    .dataframe tbody tr th {\n",
       "        vertical-align: top;\n",
       "    }\n",
       "\n",
       "    .dataframe thead th {\n",
       "        text-align: right;\n",
       "    }\n",
       "</style>\n",
       "<table border=\"1\" class=\"dataframe\">\n",
       "  <thead>\n",
       "    <tr style=\"text-align: right;\">\n",
       "      <th></th>\n",
       "      <th>user_id</th>\n",
       "      <th>coupon_id</th>\n",
       "      <th>dates</th>\n",
       "    </tr>\n",
       "  </thead>\n",
       "  <tbody>\n",
       "    <tr>\n",
       "      <th>170756</th>\n",
       "      <td>7360488</td>\n",
       "      <td>7610</td>\n",
       "      <td>20160405</td>\n",
       "    </tr>\n",
       "    <tr>\n",
       "      <th>170757</th>\n",
       "      <td>7360582</td>\n",
       "      <td>7610</td>\n",
       "      <td>20160404</td>\n",
       "    </tr>\n",
       "    <tr>\n",
       "      <th>170758</th>\n",
       "      <td>7360602</td>\n",
       "      <td>10888</td>\n",
       "      <td>20160424:20160421:20160430</td>\n",
       "    </tr>\n",
       "    <tr>\n",
       "      <th>170759</th>\n",
       "      <td>7360603</td>\n",
       "      <td>3732</td>\n",
       "      <td>20160409</td>\n",
       "    </tr>\n",
       "    <tr>\n",
       "      <th>170760</th>\n",
       "      <td>7360608</td>\n",
       "      <td>11860</td>\n",
       "      <td>20160407</td>\n",
       "    </tr>\n",
       "    <tr>\n",
       "      <th>170761</th>\n",
       "      <td>7360608</td>\n",
       "      <td>4872</td>\n",
       "      <td>20160407</td>\n",
       "    </tr>\n",
       "    <tr>\n",
       "      <th>170762</th>\n",
       "      <td>7360845</td>\n",
       "      <td>3732</td>\n",
       "      <td>20160410</td>\n",
       "    </tr>\n",
       "    <tr>\n",
       "      <th>170763</th>\n",
       "      <td>7360845</td>\n",
       "      <td>5054</td>\n",
       "      <td>20160413</td>\n",
       "    </tr>\n",
       "    <tr>\n",
       "      <th>170764</th>\n",
       "      <td>7360863</td>\n",
       "      <td>3992</td>\n",
       "      <td>20160422</td>\n",
       "    </tr>\n",
       "    <tr>\n",
       "      <th>170765</th>\n",
       "      <td>7360928</td>\n",
       "      <td>5439</td>\n",
       "      <td>20160423</td>\n",
       "    </tr>\n",
       "  </tbody>\n",
       "</table>\n",
       "</div>"
      ],
      "text/plain": [
       "        user_id coupon_id                       dates\n",
       "170756  7360488      7610                    20160405\n",
       "170757  7360582      7610                    20160404\n",
       "170758  7360602     10888  20160424:20160421:20160430\n",
       "170759  7360603      3732                    20160409\n",
       "170760  7360608     11860                    20160407\n",
       "170761  7360608      4872                    20160407\n",
       "170762  7360845      3732                    20160410\n",
       "170763  7360845      5054                    20160413\n",
       "170764  7360863      3992                    20160422\n",
       "170765  7360928      5439                    20160423"
      ]
     },
     "execution_count": 89,
     "metadata": {},
     "output_type": "execute_result"
    }
   ],
   "source": [
    "t6.tail(10)"
   ]
  },
  {
   "cell_type": "markdown",
   "metadata": {},
   "source": [
    "### 分析用户领取优惠券和不用优惠券之间的最小时间差"
   ]
  },
  {
   "cell_type": "code",
   "execution_count": 91,
   "metadata": {},
   "outputs": [],
   "source": [
    "t7 = dataset1[['user_id', 'coupon_id', 'date_received']]\n",
    "# 将t6和t7融合\n",
    "t7 = pd.merge(t7, t6, on=['user_id', 'coupon_id'], how='left')"
   ]
  },
  {
   "cell_type": "code",
   "execution_count": 94,
   "metadata": {},
   "outputs": [
    {
     "data": {
      "text/html": [
       "<div>\n",
       "<style scoped>\n",
       "    .dataframe tbody tr th:only-of-type {\n",
       "        vertical-align: middle;\n",
       "    }\n",
       "\n",
       "    .dataframe tbody tr th {\n",
       "        vertical-align: top;\n",
       "    }\n",
       "\n",
       "    .dataframe thead th {\n",
       "        text-align: right;\n",
       "    }\n",
       "</style>\n",
       "<table border=\"1\" class=\"dataframe\">\n",
       "  <thead>\n",
       "    <tr style=\"text-align: right;\">\n",
       "      <th></th>\n",
       "      <th>user_id</th>\n",
       "      <th>coupon_id</th>\n",
       "      <th>date_received</th>\n",
       "      <th>dates</th>\n",
       "    </tr>\n",
       "  </thead>\n",
       "  <tbody>\n",
       "    <tr>\n",
       "      <th>182073</th>\n",
       "      <td>457900</td>\n",
       "      <td>13118</td>\n",
       "      <td>20160418</td>\n",
       "      <td>20160418</td>\n",
       "    </tr>\n",
       "    <tr>\n",
       "      <th>182074</th>\n",
       "      <td>4056416</td>\n",
       "      <td>3469</td>\n",
       "      <td>20160514</td>\n",
       "      <td>20160514</td>\n",
       "    </tr>\n",
       "    <tr>\n",
       "      <th>182075</th>\n",
       "      <td>188086</td>\n",
       "      <td>4723</td>\n",
       "      <td>20160415</td>\n",
       "      <td>20160415</td>\n",
       "    </tr>\n",
       "    <tr>\n",
       "      <th>182076</th>\n",
       "      <td>212662</td>\n",
       "      <td>3739</td>\n",
       "      <td>20160504</td>\n",
       "      <td>20160504:20160508</td>\n",
       "    </tr>\n",
       "    <tr>\n",
       "      <th>182077</th>\n",
       "      <td>212662</td>\n",
       "      <td>3739</td>\n",
       "      <td>20160508</td>\n",
       "      <td>20160504:20160508</td>\n",
       "    </tr>\n",
       "  </tbody>\n",
       "</table>\n",
       "</div>"
      ],
      "text/plain": [
       "        user_id coupon_id date_received              dates\n",
       "182073   457900     13118      20160418           20160418\n",
       "182074  4056416      3469      20160514           20160514\n",
       "182075   188086      4723      20160415           20160415\n",
       "182076   212662      3739      20160504  20160504:20160508\n",
       "182077   212662      3739      20160508  20160504:20160508"
      ]
     },
     "execution_count": 94,
     "metadata": {},
     "output_type": "execute_result"
    }
   ],
   "source": [
    "t7.tail()"
   ]
  },
  {
   "cell_type": "code",
   "execution_count": 93,
   "metadata": {},
   "outputs": [
    {
     "name": "stdout",
     "output_type": "stream",
     "text": [
      "<class 'pandas.core.frame.DataFrame'>\n",
      "Int64Index: 182078 entries, 0 to 182077\n",
      "Data columns (total 4 columns):\n",
      "user_id          182078 non-null int64\n",
      "coupon_id        182078 non-null object\n",
      "date_received    182078 non-null object\n",
      "dates            182078 non-null object\n",
      "dtypes: int64(1), object(3)\n",
      "memory usage: 6.9+ MB\n"
     ]
    }
   ],
   "source": [
    "t7.info()"
   ]
  },
  {
   "cell_type": "code",
   "execution_count": 95,
   "metadata": {},
   "outputs": [],
   "source": [
    "# 注意这里所有的时间格式都已经是'str'格式\n",
    "t7['date_received_date'] = t7.date_received.astype('str')+'-'+t7.dates\n",
    "# print(t7)"
   ]
  },
  {
   "cell_type": "code",
   "execution_count": 97,
   "metadata": {},
   "outputs": [
    {
     "data": {
      "text/html": [
       "<div>\n",
       "<style scoped>\n",
       "    .dataframe tbody tr th:only-of-type {\n",
       "        vertical-align: middle;\n",
       "    }\n",
       "\n",
       "    .dataframe tbody tr th {\n",
       "        vertical-align: top;\n",
       "    }\n",
       "\n",
       "    .dataframe thead th {\n",
       "        text-align: right;\n",
       "    }\n",
       "</style>\n",
       "<table border=\"1\" class=\"dataframe\">\n",
       "  <thead>\n",
       "    <tr style=\"text-align: right;\">\n",
       "      <th></th>\n",
       "      <th>user_id</th>\n",
       "      <th>coupon_id</th>\n",
       "      <th>date_received</th>\n",
       "      <th>dates</th>\n",
       "      <th>date_received_date</th>\n",
       "    </tr>\n",
       "  </thead>\n",
       "  <tbody>\n",
       "    <tr>\n",
       "      <th>182073</th>\n",
       "      <td>457900</td>\n",
       "      <td>13118</td>\n",
       "      <td>20160418</td>\n",
       "      <td>20160418</td>\n",
       "      <td>20160418-20160418</td>\n",
       "    </tr>\n",
       "    <tr>\n",
       "      <th>182074</th>\n",
       "      <td>4056416</td>\n",
       "      <td>3469</td>\n",
       "      <td>20160514</td>\n",
       "      <td>20160514</td>\n",
       "      <td>20160514-20160514</td>\n",
       "    </tr>\n",
       "    <tr>\n",
       "      <th>182075</th>\n",
       "      <td>188086</td>\n",
       "      <td>4723</td>\n",
       "      <td>20160415</td>\n",
       "      <td>20160415</td>\n",
       "      <td>20160415-20160415</td>\n",
       "    </tr>\n",
       "    <tr>\n",
       "      <th>182076</th>\n",
       "      <td>212662</td>\n",
       "      <td>3739</td>\n",
       "      <td>20160504</td>\n",
       "      <td>20160504:20160508</td>\n",
       "      <td>20160504-20160504:20160508</td>\n",
       "    </tr>\n",
       "    <tr>\n",
       "      <th>182077</th>\n",
       "      <td>212662</td>\n",
       "      <td>3739</td>\n",
       "      <td>20160508</td>\n",
       "      <td>20160504:20160508</td>\n",
       "      <td>20160508-20160504:20160508</td>\n",
       "    </tr>\n",
       "  </tbody>\n",
       "</table>\n",
       "</div>"
      ],
      "text/plain": [
       "        user_id coupon_id date_received              dates  \\\n",
       "182073   457900     13118      20160418           20160418   \n",
       "182074  4056416      3469      20160514           20160514   \n",
       "182075   188086      4723      20160415           20160415   \n",
       "182076   212662      3739      20160504  20160504:20160508   \n",
       "182077   212662      3739      20160508  20160504:20160508   \n",
       "\n",
       "                date_received_date  \n",
       "182073           20160418-20160418  \n",
       "182074           20160514-20160514  \n",
       "182075           20160415-20160415  \n",
       "182076  20160504-20160504:20160508  \n",
       "182077  20160508-20160504:20160508  "
      ]
     },
     "execution_count": 97,
     "metadata": {},
     "output_type": "execute_result"
    }
   ],
   "source": [
    "t7.tail()"
   ]
  },
  {
   "cell_type": "code",
   "execution_count": 98,
   "metadata": {},
   "outputs": [],
   "source": [
    "# 计算领券日期-领取不同优惠券之间的时间差\n",
    "def get_day_gap_before(s):\n",
    "    date_received, dates = s.split('-')\n",
    "    dates = dates.split(':')\n",
    "    gaps = []\n",
    "    for d in dates:\n",
    "        this_gap = (date(int(date_received[0:4]), int(date_received[4:6]), int(\n",
    "            date_received[6:8]))-date(int(d[0:4]), int(d[4:6]), int(d[6:8]))).days\n",
    "        if this_gap > 0:\n",
    "            gaps.append(this_gap)\n",
    "    if len(gaps) == 0:\n",
    "        return -1\n",
    "    else:\n",
    "        return min(gaps)\n",
    "\n",
    "# 计算领取不用优惠券-领券日期的时间差\n",
    "def get_day_gap_after(s):\n",
    "    date_received, dates = s.split('-')\n",
    "    dates = dates.split(':')\n",
    "    gaps = []\n",
    "    for d in dates:\n",
    "        this_gap = (date(int(d[0:4]), int(d[4:6]), int(d[6:8]))-date(\n",
    "            int(date_received[0:4]), int(date_received[4:6]), int(date_received[6:8]))).days\n",
    "        if this_gap > 0:\n",
    "            gaps.append(this_gap)\n",
    "    if len(gaps) == 0:\n",
    "        return -1\n",
    "    else:\n",
    "        return min(gaps)"
   ]
  },
  {
   "cell_type": "code",
   "execution_count": 99,
   "metadata": {},
   "outputs": [],
   "source": [
    "t7['day_gap_before'] = t7.date_received_date.apply(get_day_gap_before)\n",
    "t7['day_gap_after'] = t7.date_received_date.apply(get_day_gap_after)\n",
    "t7 = t7[['user_id', 'coupon_id', 'date_received',\n",
    "         'day_gap_before', 'day_gap_after']]"
   ]
  },
  {
   "cell_type": "code",
   "execution_count": 101,
   "metadata": {},
   "outputs": [
    {
     "data": {
      "text/html": [
       "<div>\n",
       "<style scoped>\n",
       "    .dataframe tbody tr th:only-of-type {\n",
       "        vertical-align: middle;\n",
       "    }\n",
       "\n",
       "    .dataframe tbody tr th {\n",
       "        vertical-align: top;\n",
       "    }\n",
       "\n",
       "    .dataframe thead th {\n",
       "        text-align: right;\n",
       "    }\n",
       "</style>\n",
       "<table border=\"1\" class=\"dataframe\">\n",
       "  <thead>\n",
       "    <tr style=\"text-align: right;\">\n",
       "      <th></th>\n",
       "      <th>user_id</th>\n",
       "      <th>coupon_id</th>\n",
       "      <th>date_received</th>\n",
       "      <th>day_gap_before</th>\n",
       "      <th>day_gap_after</th>\n",
       "    </tr>\n",
       "  </thead>\n",
       "  <tbody>\n",
       "    <tr>\n",
       "      <th>182073</th>\n",
       "      <td>457900</td>\n",
       "      <td>13118</td>\n",
       "      <td>20160418</td>\n",
       "      <td>-1</td>\n",
       "      <td>-1</td>\n",
       "    </tr>\n",
       "    <tr>\n",
       "      <th>182074</th>\n",
       "      <td>4056416</td>\n",
       "      <td>3469</td>\n",
       "      <td>20160514</td>\n",
       "      <td>-1</td>\n",
       "      <td>-1</td>\n",
       "    </tr>\n",
       "    <tr>\n",
       "      <th>182075</th>\n",
       "      <td>188086</td>\n",
       "      <td>4723</td>\n",
       "      <td>20160415</td>\n",
       "      <td>-1</td>\n",
       "      <td>-1</td>\n",
       "    </tr>\n",
       "    <tr>\n",
       "      <th>182076</th>\n",
       "      <td>212662</td>\n",
       "      <td>3739</td>\n",
       "      <td>20160504</td>\n",
       "      <td>-1</td>\n",
       "      <td>4</td>\n",
       "    </tr>\n",
       "    <tr>\n",
       "      <th>182077</th>\n",
       "      <td>212662</td>\n",
       "      <td>3739</td>\n",
       "      <td>20160508</td>\n",
       "      <td>4</td>\n",
       "      <td>-1</td>\n",
       "    </tr>\n",
       "  </tbody>\n",
       "</table>\n",
       "</div>"
      ],
      "text/plain": [
       "        user_id coupon_id date_received  day_gap_before  day_gap_after\n",
       "182073   457900     13118      20160418              -1             -1\n",
       "182074  4056416      3469      20160514              -1             -1\n",
       "182075   188086      4723      20160415              -1             -1\n",
       "182076   212662      3739      20160504              -1              4\n",
       "182077   212662      3739      20160508               4             -1"
      ]
     },
     "execution_count": 101,
     "metadata": {},
     "output_type": "execute_result"
    }
   ],
   "source": [
    "t7.tail()"
   ]
  },
  {
   "cell_type": "markdown",
   "metadata": {},
   "source": [
    "### 将所有特征融合在一张表中"
   ]
  },
  {
   "cell_type": "code",
   "execution_count": 102,
   "metadata": {},
   "outputs": [],
   "source": [
    "# 将所有特征融合在一张表中\n",
    "other_feature1 = pd.merge(t1, t, on='user_id')\n",
    "other_feature1 = pd.merge(other_feature1, t3, on=['user_id', 'coupon_id'])\n",
    "other_feature1 = pd.merge(other_feature1, t4, on=['user_id', 'date_received'])\n",
    "other_feature1 = pd.merge(other_feature1, t5, on=[\n",
    "                          'user_id', 'coupon_id', 'date_received'])\n",
    "other_feature1 = pd.merge(other_feature1, t7, on=[\n",
    "                          'user_id', 'coupon_id', 'date_received'])\n",
    "other_feature1.to_csv('./other_feature1.csv',index=None)"
   ]
  },
  {
   "cell_type": "code",
   "execution_count": 104,
   "metadata": {},
   "outputs": [
    {
     "data": {
      "text/html": [
       "<div>\n",
       "<style scoped>\n",
       "    .dataframe tbody tr th:only-of-type {\n",
       "        vertical-align: middle;\n",
       "    }\n",
       "\n",
       "    .dataframe tbody tr th {\n",
       "        vertical-align: top;\n",
       "    }\n",
       "\n",
       "    .dataframe thead th {\n",
       "        text-align: right;\n",
       "    }\n",
       "</style>\n",
       "<table border=\"1\" class=\"dataframe\">\n",
       "  <thead>\n",
       "    <tr style=\"text-align: right;\">\n",
       "      <th></th>\n",
       "      <th>user_id</th>\n",
       "      <th>coupon_id</th>\n",
       "      <th>this_month_user_receive_same_coupn_count</th>\n",
       "      <th>this_month_user_receive_all_coupon_count</th>\n",
       "      <th>date_received</th>\n",
       "      <th>this_month_user_receive_same_coupon_lastone</th>\n",
       "      <th>this_month_user_receive_same_coupon_firstone</th>\n",
       "      <th>this_day_receive_all_coupon_count</th>\n",
       "      <th>this_day_user_receive_same_coupon_count</th>\n",
       "      <th>day_gap_before</th>\n",
       "      <th>day_gap_after</th>\n",
       "    </tr>\n",
       "  </thead>\n",
       "  <tbody>\n",
       "    <tr>\n",
       "      <th>0</th>\n",
       "      <td>173</td>\n",
       "      <td>7610</td>\n",
       "      <td>1</td>\n",
       "      <td>1</td>\n",
       "      <td>20160414</td>\n",
       "      <td>-1</td>\n",
       "      <td>-1</td>\n",
       "      <td>1</td>\n",
       "      <td>1</td>\n",
       "      <td>-1</td>\n",
       "      <td>-1</td>\n",
       "    </tr>\n",
       "    <tr>\n",
       "      <th>1</th>\n",
       "      <td>285</td>\n",
       "      <td>1532</td>\n",
       "      <td>1</td>\n",
       "      <td>1</td>\n",
       "      <td>20160501</td>\n",
       "      <td>-1</td>\n",
       "      <td>-1</td>\n",
       "      <td>1</td>\n",
       "      <td>1</td>\n",
       "      <td>-1</td>\n",
       "      <td>-1</td>\n",
       "    </tr>\n",
       "    <tr>\n",
       "      <th>2</th>\n",
       "      <td>316</td>\n",
       "      <td>8952</td>\n",
       "      <td>1</td>\n",
       "      <td>1</td>\n",
       "      <td>20160430</td>\n",
       "      <td>-1</td>\n",
       "      <td>-1</td>\n",
       "      <td>1</td>\n",
       "      <td>1</td>\n",
       "      <td>-1</td>\n",
       "      <td>-1</td>\n",
       "    </tr>\n",
       "    <tr>\n",
       "      <th>3</th>\n",
       "      <td>377</td>\n",
       "      <td>2857</td>\n",
       "      <td>1</td>\n",
       "      <td>1</td>\n",
       "      <td>20160512</td>\n",
       "      <td>-1</td>\n",
       "      <td>-1</td>\n",
       "      <td>1</td>\n",
       "      <td>1</td>\n",
       "      <td>-1</td>\n",
       "      <td>-1</td>\n",
       "    </tr>\n",
       "    <tr>\n",
       "      <th>4</th>\n",
       "      <td>387</td>\n",
       "      <td>7610</td>\n",
       "      <td>1</td>\n",
       "      <td>1</td>\n",
       "      <td>20160421</td>\n",
       "      <td>-1</td>\n",
       "      <td>-1</td>\n",
       "      <td>1</td>\n",
       "      <td>1</td>\n",
       "      <td>-1</td>\n",
       "      <td>-1</td>\n",
       "    </tr>\n",
       "  </tbody>\n",
       "</table>\n",
       "</div>"
      ],
      "text/plain": [
       "   user_id coupon_id  this_month_user_receive_same_coupn_count  \\\n",
       "0      173      7610                                         1   \n",
       "1      285      1532                                         1   \n",
       "2      316      8952                                         1   \n",
       "3      377      2857                                         1   \n",
       "4      387      7610                                         1   \n",
       "\n",
       "   this_month_user_receive_all_coupon_count date_received  \\\n",
       "0                                         1      20160414   \n",
       "1                                         1      20160501   \n",
       "2                                         1      20160430   \n",
       "3                                         1      20160512   \n",
       "4                                         1      20160421   \n",
       "\n",
       "   this_month_user_receive_same_coupon_lastone  \\\n",
       "0                                           -1   \n",
       "1                                           -1   \n",
       "2                                           -1   \n",
       "3                                           -1   \n",
       "4                                           -1   \n",
       "\n",
       "   this_month_user_receive_same_coupon_firstone  \\\n",
       "0                                            -1   \n",
       "1                                            -1   \n",
       "2                                            -1   \n",
       "3                                            -1   \n",
       "4                                            -1   \n",
       "\n",
       "   this_day_receive_all_coupon_count  this_day_user_receive_same_coupon_count  \\\n",
       "0                                  1                                        1   \n",
       "1                                  1                                        1   \n",
       "2                                  1                                        1   \n",
       "3                                  1                                        1   \n",
       "4                                  1                                        1   \n",
       "\n",
       "   day_gap_before  day_gap_after  \n",
       "0              -1             -1  \n",
       "1              -1             -1  \n",
       "2              -1             -1  \n",
       "3              -1             -1  \n",
       "4              -1             -1  "
      ]
     },
     "execution_count": 104,
     "metadata": {},
     "output_type": "execute_result"
    }
   ],
   "source": [
    "other_feature1.head()"
   ]
  },
  {
   "cell_type": "markdown",
   "metadata": {},
   "source": [
    "## 优惠券相关特征处理"
   ]
  },
  {
   "cell_type": "code",
   "execution_count": 107,
   "metadata": {},
   "outputs": [],
   "source": [
    "# 计算折扣率\n",
    "def calc_discount_rate(s):\n",
    "    s = str(s)\n",
    "    s = s.split(':')\n",
    "    if len(s) == 1:\n",
    "        return float(s[0])\n",
    "    else:\n",
    "        return 1.0-float(s[1])/float(s[0])\n",
    "def get_discount_man(s):\n",
    "    s = str(s)\n",
    "    s = s.split(':')\n",
    "    if len(s)==1:\n",
    "        return 'null'\n",
    "    else:\n",
    "        return int(s[0])\n",
    "def get_discount_jian(s):\n",
    "    s = str(s)\n",
    "    s = s.split(':')\n",
    "    if len(s) == 1:\n",
    "        return 'null'\n",
    "    else:\n",
    "        return int(s[1])\n",
    "\n",
    "def is_man_jian(s):\n",
    "    s = str(s)\n",
    "    s = s.split(':')\n",
    "    if len(s)==1:\n",
    "        return 0\n",
    "    else:\n",
    "        return 1 "
   ]
  },
  {
   "cell_type": "code",
   "execution_count": 118,
   "metadata": {},
   "outputs": [
    {
     "name": "stderr",
     "output_type": "stream",
     "text": [
      "/Users/houxiaojun/.virtualenvs/testai/lib/python3.7/site-packages/ipykernel_launcher.py:6: SettingWithCopyWarning: \n",
      "A value is trying to be set on a copy of a slice from a DataFrame.\n",
      "Try using .loc[row_indexer,col_indexer] = value instead\n",
      "\n",
      "See the caveats in the documentation: http://pandas.pydata.org/pandas-docs/stable/indexing.html#indexing-view-versus-copy\n",
      "  \n",
      "/Users/houxiaojun/.virtualenvs/testai/lib/python3.7/site-packages/ipykernel_launcher.py:10: SettingWithCopyWarning: \n",
      "A value is trying to be set on a copy of a slice from a DataFrame.\n",
      "Try using .loc[row_indexer,col_indexer] = value instead\n",
      "\n",
      "See the caveats in the documentation: http://pandas.pydata.org/pandas-docs/stable/indexing.html#indexing-view-versus-copy\n",
      "  # Remove the CWD from sys.path while we load stuff.\n"
     ]
    }
   ],
   "source": [
    "# 将时间转化为第几周\n",
    "# 显示时间是第几周\n",
    "# tt是获取到的特征中消费的最大时间\n",
    "tt = feature1[feature1.date != 'null'].date.unique().max()\n",
    "dataset1['day_of_week'] = dataset1.date_received.astype('str').apply(\n",
    "    lambda x: date(int(x[0:4]), int(x[4:6]), int(x[6:8])).weekday()+1)\n",
    "\n",
    "# 显示时间是月中的第几天\n",
    "dataset1['day_of_month'] = dataset1.date_received.astype(\n",
    "    'str').apply(lambda x: int(x[6:8]))"
   ]
  },
  {
   "cell_type": "code",
   "execution_count": 129,
   "metadata": {},
   "outputs": [
    {
     "name": "stderr",
     "output_type": "stream",
     "text": [
      "/Users/houxiaojun/.virtualenvs/testai/lib/python3.7/site-packages/ipykernel_launcher.py:3: SettingWithCopyWarning: \n",
      "A value is trying to be set on a copy of a slice from a DataFrame.\n",
      "Try using .loc[row_indexer,col_indexer] = value instead\n",
      "\n",
      "See the caveats in the documentation: http://pandas.pydata.org/pandas-docs/stable/indexing.html#indexing-view-versus-copy\n",
      "  This is separate from the ipykernel package so we can avoid doing imports until\n",
      "/Users/houxiaojun/.virtualenvs/testai/lib/python3.7/site-packages/ipykernel_launcher.py:5: SettingWithCopyWarning: \n",
      "A value is trying to be set on a copy of a slice from a DataFrame.\n",
      "Try using .loc[row_indexer,col_indexer] = value instead\n",
      "\n",
      "See the caveats in the documentation: http://pandas.pydata.org/pandas-docs/stable/indexing.html#indexing-view-versus-copy\n",
      "  \"\"\"\n",
      "/Users/houxiaojun/.virtualenvs/testai/lib/python3.7/site-packages/ipykernel_launcher.py:7: SettingWithCopyWarning: \n",
      "A value is trying to be set on a copy of a slice from a DataFrame.\n",
      "Try using .loc[row_indexer,col_indexer] = value instead\n",
      "\n",
      "See the caveats in the documentation: http://pandas.pydata.org/pandas-docs/stable/indexing.html#indexing-view-versus-copy\n",
      "  import sys\n",
      "/Users/houxiaojun/.virtualenvs/testai/lib/python3.7/site-packages/ipykernel_launcher.py:9: SettingWithCopyWarning: \n",
      "A value is trying to be set on a copy of a slice from a DataFrame.\n",
      "Try using .loc[row_indexer,col_indexer] = value instead\n",
      "\n",
      "See the caveats in the documentation: http://pandas.pydata.org/pandas-docs/stable/indexing.html#indexing-view-versus-copy\n",
      "  if __name__ == '__main__':\n",
      "/Users/houxiaojun/.virtualenvs/testai/lib/python3.7/site-packages/ipykernel_launcher.py:12: SettingWithCopyWarning: \n",
      "A value is trying to be set on a copy of a slice from a DataFrame.\n",
      "Try using .loc[row_indexer,col_indexer] = value instead\n",
      "\n",
      "See the caveats in the documentation: http://pandas.pydata.org/pandas-docs/stable/indexing.html#indexing-view-versus-copy\n",
      "  if sys.path[0] == '':\n"
     ]
    }
   ],
   "source": [
    "# 显示领取优惠券时期和截止日之间的天数\n",
    "dataset1['days_distance'] = dataset1.date_received.astype('str').apply(\n",
    "    lambda x: (date(int(x[0:4]), int(x[4:6]), int(x[6:8]))-date(int(tt[0:4]), int(tt[4:6]), int(tt[6:8]))).days)\n",
    "# 显示满了多少钱后开始减\n",
    "dataset1['discount_man'] = dataset1.discount_rate.apply(get_discount_man)\n",
    "# 显示满减的减少的钱\n",
    "dataset1['discount_jian'] = dataset1.discount_rate.apply(get_discount_jian)\n",
    "# 返回优惠券是否是满减券\n",
    "dataset1['is_man_jian'] = dataset1.discount_rate.apply(is_man_jian)\n",
    "# 显示打折力度\n",
    "dataset1['discount_rate'] = dataset1.discount_rate.apply(\n",
    "    calc_discount_rate)"
   ]
  },
  {
   "cell_type": "code",
   "execution_count": 131,
   "metadata": {},
   "outputs": [
    {
     "data": {
      "text/html": [
       "<div>\n",
       "<style scoped>\n",
       "    .dataframe tbody tr th:only-of-type {\n",
       "        vertical-align: middle;\n",
       "    }\n",
       "\n",
       "    .dataframe tbody tr th {\n",
       "        vertical-align: top;\n",
       "    }\n",
       "\n",
       "    .dataframe thead th {\n",
       "        text-align: right;\n",
       "    }\n",
       "</style>\n",
       "<table border=\"1\" class=\"dataframe\">\n",
       "  <thead>\n",
       "    <tr style=\"text-align: right;\">\n",
       "      <th></th>\n",
       "      <th>user_id</th>\n",
       "      <th>merchant_id</th>\n",
       "      <th>coupon_id</th>\n",
       "      <th>discount_rate</th>\n",
       "      <th>distance</th>\n",
       "      <th>date_received</th>\n",
       "      <th>date</th>\n",
       "      <th>day_of_week</th>\n",
       "      <th>day_of_month</th>\n",
       "      <th>days_distance</th>\n",
       "      <th>discount_man</th>\n",
       "      <th>discount_jian</th>\n",
       "      <th>is_man_jian</th>\n",
       "    </tr>\n",
       "  </thead>\n",
       "  <tbody>\n",
       "    <tr>\n",
       "      <th>7</th>\n",
       "      <td>1832624</td>\n",
       "      <td>3381</td>\n",
       "      <td>7610</td>\n",
       "      <td>0.900000</td>\n",
       "      <td>0</td>\n",
       "      <td>20160429</td>\n",
       "      <td>null</td>\n",
       "      <td>5</td>\n",
       "      <td>29</td>\n",
       "      <td>16</td>\n",
       "      <td>200</td>\n",
       "      <td>20</td>\n",
       "      <td>1</td>\n",
       "    </tr>\n",
       "    <tr>\n",
       "      <th>18</th>\n",
       "      <td>163606</td>\n",
       "      <td>1569</td>\n",
       "      <td>5054</td>\n",
       "      <td>0.850000</td>\n",
       "      <td>10</td>\n",
       "      <td>20160421</td>\n",
       "      <td>null</td>\n",
       "      <td>4</td>\n",
       "      <td>21</td>\n",
       "      <td>8</td>\n",
       "      <td>200</td>\n",
       "      <td>30</td>\n",
       "      <td>1</td>\n",
       "    </tr>\n",
       "    <tr>\n",
       "      <th>20</th>\n",
       "      <td>94107</td>\n",
       "      <td>3381</td>\n",
       "      <td>7610</td>\n",
       "      <td>0.900000</td>\n",
       "      <td>2</td>\n",
       "      <td>20160412</td>\n",
       "      <td>null</td>\n",
       "      <td>2</td>\n",
       "      <td>12</td>\n",
       "      <td>-1</td>\n",
       "      <td>200</td>\n",
       "      <td>20</td>\n",
       "      <td>1</td>\n",
       "    </tr>\n",
       "    <tr>\n",
       "      <th>43</th>\n",
       "      <td>4061024</td>\n",
       "      <td>3381</td>\n",
       "      <td>7610</td>\n",
       "      <td>0.900000</td>\n",
       "      <td>10</td>\n",
       "      <td>20160426</td>\n",
       "      <td>null</td>\n",
       "      <td>2</td>\n",
       "      <td>26</td>\n",
       "      <td>13</td>\n",
       "      <td>200</td>\n",
       "      <td>20</td>\n",
       "      <td>1</td>\n",
       "    </tr>\n",
       "    <tr>\n",
       "      <th>44</th>\n",
       "      <td>4061024</td>\n",
       "      <td>7555</td>\n",
       "      <td>9871</td>\n",
       "      <td>0.833333</td>\n",
       "      <td>10</td>\n",
       "      <td>20160409</td>\n",
       "      <td>null</td>\n",
       "      <td>6</td>\n",
       "      <td>9</td>\n",
       "      <td>-4</td>\n",
       "      <td>30</td>\n",
       "      <td>5</td>\n",
       "      <td>1</td>\n",
       "    </tr>\n",
       "  </tbody>\n",
       "</table>\n",
       "</div>"
      ],
      "text/plain": [
       "    user_id  merchant_id coupon_id  discount_rate distance date_received  \\\n",
       "7   1832624         3381      7610       0.900000        0      20160429   \n",
       "18   163606         1569      5054       0.850000       10      20160421   \n",
       "20    94107         3381      7610       0.900000        2      20160412   \n",
       "43  4061024         3381      7610       0.900000       10      20160426   \n",
       "44  4061024         7555      9871       0.833333       10      20160409   \n",
       "\n",
       "    date  day_of_week  day_of_month  days_distance discount_man discount_jian  \\\n",
       "7   null            5            29             16          200            20   \n",
       "18  null            4            21              8          200            30   \n",
       "20  null            2            12             -1          200            20   \n",
       "43  null            2            26             13          200            20   \n",
       "44  null            6             9             -4           30             5   \n",
       "\n",
       "    is_man_jian  \n",
       "7             1  \n",
       "18            1  \n",
       "20            1  \n",
       "43            1  \n",
       "44            1  "
      ]
     },
     "execution_count": 131,
     "metadata": {},
     "output_type": "execute_result"
    }
   ],
   "source": [
    "dataset1.head()"
   ]
  },
  {
   "cell_type": "code",
   "execution_count": 193,
   "metadata": {},
   "outputs": [
    {
     "name": "stderr",
     "output_type": "stream",
     "text": [
      "/Users/houxiaojun/.virtualenvs/testai/lib/python3.7/site-packages/ipykernel_launcher.py:2: SettingWithCopyWarning: \n",
      "A value is trying to be set on a copy of a slice from a DataFrame.\n",
      "Try using .loc[row_indexer,col_indexer] = value instead\n",
      "\n",
      "See the caveats in the documentation: http://pandas.pydata.org/pandas-docs/stable/indexing.html#indexing-view-versus-copy\n",
      "  \n"
     ]
    }
   ],
   "source": [
    "d = dataset1[['coupon_id']]\n",
    "d['coupon_count'] = 1\n",
    "# 显示每一种优惠券的数量\n",
    "d = d.groupby('coupon_id').agg('sum').reset_index()\n",
    "dataset1 = pd.merge(dataset1, d, on='coupon_id', how='left')\n",
    "dataset1.to_csv('./coupon1_feature.csv',index=None)"
   ]
  },
  {
   "cell_type": "markdown",
   "metadata": {},
   "source": [
    "## 商户特征处理"
   ]
  },
  {
   "cell_type": "code",
   "execution_count": 134,
   "metadata": {},
   "outputs": [
    {
     "name": "stderr",
     "output_type": "stream",
     "text": [
      "/Users/houxiaojun/.virtualenvs/testai/lib/python3.7/site-packages/ipykernel_launcher.py:5: SettingWithCopyWarning: \n",
      "A value is trying to be set on a copy of a slice from a DataFrame\n",
      "\n",
      "See the caveats in the documentation: http://pandas.pydata.org/pandas-docs/stable/indexing.html#indexing-view-versus-copy\n",
      "  \"\"\"\n"
     ]
    }
   ],
   "source": [
    "merchant1 = feature1[['merchant_id','coupon_id','distance','date_received','date']]\n",
    "\n",
    "t = merchant1[['merchant_id']]\n",
    "#删除重复行数据\n",
    "t.drop_duplicates(inplace=True)"
   ]
  },
  {
   "cell_type": "markdown",
   "metadata": {},
   "source": [
    "### 显示每个商品的销售数量"
   ]
  },
  {
   "cell_type": "code",
   "execution_count": 135,
   "metadata": {},
   "outputs": [],
   "source": [
    "#显示卖出的商品\n",
    "t1 = merchant1[merchant1.date!='null'][['merchant_id']]\n",
    "t1['total_sales'] = 1\n",
    "#显示每个商品的销售数量\n",
    "t1 = t1.groupby('merchant_id').agg('sum').reset_index()"
   ]
  },
  {
   "cell_type": "markdown",
   "metadata": {},
   "source": [
    "### 显示使用了优惠券消费的商品，正样本"
   ]
  },
  {
   "cell_type": "code",
   "execution_count": 136,
   "metadata": {},
   "outputs": [],
   "source": [
    "#显示使用了优惠券消费的商品，正样本\n",
    "t2 = merchant1[(merchant1.date!='null')&(merchant1.coupon_id!='null')][['merchant_id']]\n",
    "t2['sales_use_coupon'] = 1\n",
    "t2 = t2.groupby('merchant_id').agg('sum').reset_index()"
   ]
  },
  {
   "cell_type": "code",
   "execution_count": 138,
   "metadata": {},
   "outputs": [
    {
     "data": {
      "text/html": [
       "<div>\n",
       "<style scoped>\n",
       "    .dataframe tbody tr th:only-of-type {\n",
       "        vertical-align: middle;\n",
       "    }\n",
       "\n",
       "    .dataframe tbody tr th {\n",
       "        vertical-align: top;\n",
       "    }\n",
       "\n",
       "    .dataframe thead th {\n",
       "        text-align: right;\n",
       "    }\n",
       "</style>\n",
       "<table border=\"1\" class=\"dataframe\">\n",
       "  <thead>\n",
       "    <tr style=\"text-align: right;\">\n",
       "      <th></th>\n",
       "      <th>merchant_id</th>\n",
       "      <th>sales_use_coupon</th>\n",
       "    </tr>\n",
       "  </thead>\n",
       "  <tbody>\n",
       "    <tr>\n",
       "      <th>0</th>\n",
       "      <td>13</td>\n",
       "      <td>1</td>\n",
       "    </tr>\n",
       "    <tr>\n",
       "      <th>1</th>\n",
       "      <td>14</td>\n",
       "      <td>1</td>\n",
       "    </tr>\n",
       "    <tr>\n",
       "      <th>2</th>\n",
       "      <td>15</td>\n",
       "      <td>11</td>\n",
       "    </tr>\n",
       "    <tr>\n",
       "      <th>3</th>\n",
       "      <td>17</td>\n",
       "      <td>2</td>\n",
       "    </tr>\n",
       "    <tr>\n",
       "      <th>4</th>\n",
       "      <td>20</td>\n",
       "      <td>1</td>\n",
       "    </tr>\n",
       "  </tbody>\n",
       "</table>\n",
       "</div>"
      ],
      "text/plain": [
       "   merchant_id  sales_use_coupon\n",
       "0           13                 1\n",
       "1           14                 1\n",
       "2           15                11\n",
       "3           17                 2\n",
       "4           20                 1"
      ]
     },
     "execution_count": 138,
     "metadata": {},
     "output_type": "execute_result"
    }
   ],
   "source": [
    "t2.head()"
   ]
  },
  {
   "cell_type": "markdown",
   "metadata": {},
   "source": [
    "### 显示商品的优惠券的总数量"
   ]
  },
  {
   "cell_type": "code",
   "execution_count": 140,
   "metadata": {},
   "outputs": [],
   "source": [
    "#显示了商品的优惠券的总数量\n",
    "t3 = merchant1[merchant1.coupon_id != 'null'][['merchant_id']]\n",
    "t3 ['total_coupon'] = 1\n",
    "t3 = t3.groupby('merchant_id').agg('sum').reset_index()"
   ]
  },
  {
   "cell_type": "code",
   "execution_count": 141,
   "metadata": {},
   "outputs": [
    {
     "data": {
      "text/html": [
       "<div>\n",
       "<style scoped>\n",
       "    .dataframe tbody tr th:only-of-type {\n",
       "        vertical-align: middle;\n",
       "    }\n",
       "\n",
       "    .dataframe tbody tr th {\n",
       "        vertical-align: top;\n",
       "    }\n",
       "\n",
       "    .dataframe thead th {\n",
       "        text-align: right;\n",
       "    }\n",
       "</style>\n",
       "<table border=\"1\" class=\"dataframe\">\n",
       "  <thead>\n",
       "    <tr style=\"text-align: right;\">\n",
       "      <th></th>\n",
       "      <th>merchant_id</th>\n",
       "      <th>total_coupon</th>\n",
       "    </tr>\n",
       "  </thead>\n",
       "  <tbody>\n",
       "    <tr>\n",
       "      <th>0</th>\n",
       "      <td>8</td>\n",
       "      <td>2</td>\n",
       "    </tr>\n",
       "    <tr>\n",
       "      <th>1</th>\n",
       "      <td>13</td>\n",
       "      <td>3</td>\n",
       "    </tr>\n",
       "    <tr>\n",
       "      <th>2</th>\n",
       "      <td>14</td>\n",
       "      <td>10</td>\n",
       "    </tr>\n",
       "    <tr>\n",
       "      <th>3</th>\n",
       "      <td>15</td>\n",
       "      <td>79</td>\n",
       "    </tr>\n",
       "    <tr>\n",
       "      <th>4</th>\n",
       "      <td>17</td>\n",
       "      <td>26</td>\n",
       "    </tr>\n",
       "  </tbody>\n",
       "</table>\n",
       "</div>"
      ],
      "text/plain": [
       "   merchant_id  total_coupon\n",
       "0            8             2\n",
       "1           13             3\n",
       "2           14            10\n",
       "3           15            79\n",
       "4           17            26"
      ]
     },
     "execution_count": 141,
     "metadata": {},
     "output_type": "execute_result"
    }
   ],
   "source": [
    "t3.head()"
   ]
  },
  {
   "cell_type": "markdown",
   "metadata": {},
   "source": [
    "### 显示商品销量和距离的关系"
   ]
  },
  {
   "cell_type": "code",
   "execution_count": 142,
   "metadata": {},
   "outputs": [],
   "source": [
    "#显示商品销量和距离的关系\n",
    "t4 = merchant1[(merchant1.date != 'null')&(merchant1.coupon_id != 'null')][['merchant_id','distance']]\n",
    "#把数据中的null值全部替换为-1\n",
    "t4.replace('null',-1,inplace=True)\n",
    "t4.distance = t4.distance.astype('int')\n",
    "#再把数据中的-1全部替换为NaN\n",
    "t4.replace(-1,np.nan,inplace=True)"
   ]
  },
  {
   "cell_type": "markdown",
   "metadata": {},
   "source": [
    "### 显示用户离商品的最小距离"
   ]
  },
  {
   "cell_type": "code",
   "execution_count": 143,
   "metadata": {},
   "outputs": [],
   "source": [
    "#返回用户离商品的距离最小值\n",
    "t5 = t4.groupby('merchant_id').agg('min').reset_index()\n",
    "t5.rename(columns={'distance':'merchant_min_distance'},inplace = True)"
   ]
  },
  {
   "cell_type": "markdown",
   "metadata": {},
   "source": [
    "### 显示用户离商品的最大距离"
   ]
  },
  {
   "cell_type": "code",
   "execution_count": 144,
   "metadata": {},
   "outputs": [],
   "source": [
    "#返回用户离商品的距离最大值\n",
    "t6 = t4.groupby('merchant_id').agg('max').reset_index()\n",
    "t6.rename(columns={'distance':'merchant_max_distance'},inplace = True)"
   ]
  },
  {
   "cell_type": "markdown",
   "metadata": {},
   "source": [
    "### 显示距离的平均值"
   ]
  },
  {
   "cell_type": "code",
   "execution_count": 145,
   "metadata": {},
   "outputs": [],
   "source": [
    "#返回距离的平均值  和直接使用聚合函数没什么区别\n",
    "t7 = t4.groupby('merchant_id').agg('mean').reset_index()\n",
    "t7.rename(columns = {'distance':'merchant_mean_distance'},inplace= True)"
   ]
  },
  {
   "cell_type": "code",
   "execution_count": 150,
   "metadata": {},
   "outputs": [
    {
     "data": {
      "text/html": [
       "<div>\n",
       "<style scoped>\n",
       "    .dataframe tbody tr th:only-of-type {\n",
       "        vertical-align: middle;\n",
       "    }\n",
       "\n",
       "    .dataframe tbody tr th {\n",
       "        vertical-align: top;\n",
       "    }\n",
       "\n",
       "    .dataframe thead th {\n",
       "        text-align: right;\n",
       "    }\n",
       "</style>\n",
       "<table border=\"1\" class=\"dataframe\">\n",
       "  <thead>\n",
       "    <tr style=\"text-align: right;\">\n",
       "      <th></th>\n",
       "      <th>merchant_id</th>\n",
       "      <th>merchant_mean_distance</th>\n",
       "    </tr>\n",
       "  </thead>\n",
       "  <tbody>\n",
       "    <tr>\n",
       "      <th>0</th>\n",
       "      <td>13</td>\n",
       "      <td>0.000000</td>\n",
       "    </tr>\n",
       "    <tr>\n",
       "      <th>1</th>\n",
       "      <td>14</td>\n",
       "      <td>0.000000</td>\n",
       "    </tr>\n",
       "    <tr>\n",
       "      <th>2</th>\n",
       "      <td>15</td>\n",
       "      <td>1.727273</td>\n",
       "    </tr>\n",
       "    <tr>\n",
       "      <th>3</th>\n",
       "      <td>17</td>\n",
       "      <td>0.500000</td>\n",
       "    </tr>\n",
       "    <tr>\n",
       "      <th>4</th>\n",
       "      <td>20</td>\n",
       "      <td>0.000000</td>\n",
       "    </tr>\n",
       "  </tbody>\n",
       "</table>\n",
       "</div>"
      ],
      "text/plain": [
       "   merchant_id  merchant_mean_distance\n",
       "0           13                0.000000\n",
       "1           14                0.000000\n",
       "2           15                1.727273\n",
       "3           17                0.500000\n",
       "4           20                0.000000"
      ]
     },
     "execution_count": 150,
     "metadata": {},
     "output_type": "execute_result"
    }
   ],
   "source": [
    "t7.head()"
   ]
  },
  {
   "cell_type": "markdown",
   "metadata": {},
   "source": [
    "### 显示距离的中位置"
   ]
  },
  {
   "cell_type": "code",
   "execution_count": 151,
   "metadata": {},
   "outputs": [],
   "source": [
    "#返回距离的中位值\n",
    "t8 = t4.groupby('merchant_id').agg('median').reset_index()\n",
    "t8.rename(columns={'distance':'merchant_median_distance'},inplace = True)"
   ]
  },
  {
   "cell_type": "markdown",
   "metadata": {},
   "source": [
    "### 合并处理后的特征表"
   ]
  },
  {
   "cell_type": "code",
   "execution_count": 152,
   "metadata": {},
   "outputs": [],
   "source": [
    "merchant1_feature = pd.merge(t,t1,on='merchant_id',how='left')\n",
    "merchant1_feature = pd.merge(merchant1_feature,t2,on='merchant_id',how='left')\n",
    "merchant1_feature = pd.merge(merchant1_feature,t3,on='merchant_id',how='left')\n",
    "merchant1_feature = pd.merge(merchant1_feature,t5,on='merchant_id',how='left')\n",
    "merchant1_feature = pd.merge(merchant1_feature,t6,on='merchant_id',how='left')\n",
    "merchant1_feature = pd.merge(merchant1_feature,t7,on='merchant_id',how='left')\n",
    "merchant1_feature = pd.merge(merchant1_feature,t8,on='merchant_id',how='left')"
   ]
  },
  {
   "cell_type": "code",
   "execution_count": 154,
   "metadata": {},
   "outputs": [
    {
     "data": {
      "text/html": [
       "<div>\n",
       "<style scoped>\n",
       "    .dataframe tbody tr th:only-of-type {\n",
       "        vertical-align: middle;\n",
       "    }\n",
       "\n",
       "    .dataframe tbody tr th {\n",
       "        vertical-align: top;\n",
       "    }\n",
       "\n",
       "    .dataframe thead th {\n",
       "        text-align: right;\n",
       "    }\n",
       "</style>\n",
       "<table border=\"1\" class=\"dataframe\">\n",
       "  <thead>\n",
       "    <tr style=\"text-align: right;\">\n",
       "      <th></th>\n",
       "      <th>merchant_id</th>\n",
       "      <th>total_sales</th>\n",
       "      <th>sales_use_coupon</th>\n",
       "      <th>total_coupon</th>\n",
       "      <th>merchant_min_distance</th>\n",
       "      <th>merchant_max_distance</th>\n",
       "      <th>merchant_mean_distance</th>\n",
       "      <th>merchant_median_distance</th>\n",
       "    </tr>\n",
       "  </thead>\n",
       "  <tbody>\n",
       "    <tr>\n",
       "      <th>0</th>\n",
       "      <td>2632</td>\n",
       "      <td>14.0</td>\n",
       "      <td>1.0</td>\n",
       "      <td>28.0</td>\n",
       "      <td>1.0</td>\n",
       "      <td>1.0</td>\n",
       "      <td>1.000000</td>\n",
       "      <td>1.0</td>\n",
       "    </tr>\n",
       "    <tr>\n",
       "      <th>1</th>\n",
       "      <td>3381</td>\n",
       "      <td>14962.0</td>\n",
       "      <td>2168.0</td>\n",
       "      <td>100369.0</td>\n",
       "      <td>0.0</td>\n",
       "      <td>10.0</td>\n",
       "      <td>1.650457</td>\n",
       "      <td>1.0</td>\n",
       "    </tr>\n",
       "    <tr>\n",
       "      <th>2</th>\n",
       "      <td>2099</td>\n",
       "      <td>5783.0</td>\n",
       "      <td>1705.0</td>\n",
       "      <td>16824.0</td>\n",
       "      <td>0.0</td>\n",
       "      <td>10.0</td>\n",
       "      <td>0.968072</td>\n",
       "      <td>0.0</td>\n",
       "    </tr>\n",
       "    <tr>\n",
       "      <th>3</th>\n",
       "      <td>4833</td>\n",
       "      <td>522.0</td>\n",
       "      <td>116.0</td>\n",
       "      <td>8321.0</td>\n",
       "      <td>0.0</td>\n",
       "      <td>10.0</td>\n",
       "      <td>3.037736</td>\n",
       "      <td>2.0</td>\n",
       "    </tr>\n",
       "    <tr>\n",
       "      <th>4</th>\n",
       "      <td>8390</td>\n",
       "      <td>1056.0</td>\n",
       "      <td>133.0</td>\n",
       "      <td>690.0</td>\n",
       "      <td>0.0</td>\n",
       "      <td>10.0</td>\n",
       "      <td>0.865079</td>\n",
       "      <td>0.0</td>\n",
       "    </tr>\n",
       "  </tbody>\n",
       "</table>\n",
       "</div>"
      ],
      "text/plain": [
       "   merchant_id  total_sales  sales_use_coupon  total_coupon  \\\n",
       "0         2632         14.0               1.0          28.0   \n",
       "1         3381      14962.0            2168.0      100369.0   \n",
       "2         2099       5783.0            1705.0       16824.0   \n",
       "3         4833        522.0             116.0        8321.0   \n",
       "4         8390       1056.0             133.0         690.0   \n",
       "\n",
       "   merchant_min_distance  merchant_max_distance  merchant_mean_distance  \\\n",
       "0                    1.0                    1.0                1.000000   \n",
       "1                    0.0                   10.0                1.650457   \n",
       "2                    0.0                   10.0                0.968072   \n",
       "3                    0.0                   10.0                3.037736   \n",
       "4                    0.0                   10.0                0.865079   \n",
       "\n",
       "   merchant_median_distance  \n",
       "0                       1.0  \n",
       "1                       1.0  \n",
       "2                       0.0  \n",
       "3                       2.0  \n",
       "4                       0.0  "
      ]
     },
     "execution_count": 154,
     "metadata": {},
     "output_type": "execute_result"
    }
   ],
   "source": [
    "merchant1_feature.head()"
   ]
  },
  {
   "cell_type": "code",
   "execution_count": 155,
   "metadata": {},
   "outputs": [],
   "source": [
    "#将数据中的NaN用0来替换\n",
    "merchant1_feature.sales_use_coupon = merchant1_feature.sales_use_coupon.replace(np.nan,0)\n",
    "#即优惠券的使用率\n",
    "merchant1_feature['merchant_coupon_transfer_rate'] = merchant1_feature.sales_use_coupon.astype('float')/merchant1_feature.total_coupon\n",
    "#即卖出商品中使用优惠券的占比\n",
    "merchant1_feature['coupon_rate'] = merchant1_feature.sales_use_coupon.astype('float') / merchant1_feature.total_sales\n",
    "#将数据中的NaN用0来替换\n",
    "merchant1_feature.total_coupon = merchant1_feature.total_coupon.replace(np.nan,0)"
   ]
  },
  {
   "cell_type": "markdown",
   "metadata": {},
   "source": [
    "### 保存处理结果"
   ]
  },
  {
   "cell_type": "code",
   "execution_count": 156,
   "metadata": {},
   "outputs": [],
   "source": [
    "merchant1_feature.to_csv('./merchant1_feature.csv',index=None)"
   ]
  },
  {
   "cell_type": "markdown",
   "metadata": {},
   "source": [
    "## 用户的相关特征处理"
   ]
  },
  {
   "cell_type": "markdown",
   "metadata": {},
   "source": [
    "### 获取处理的特征项"
   ]
  },
  {
   "cell_type": "code",
   "execution_count": 158,
   "metadata": {},
   "outputs": [
    {
     "name": "stderr",
     "output_type": "stream",
     "text": [
      "/Users/houxiaojun/.virtualenvs/testai/lib/python3.7/site-packages/ipykernel_launcher.py:4: SettingWithCopyWarning: \n",
      "A value is trying to be set on a copy of a slice from a DataFrame\n",
      "\n",
      "See the caveats in the documentation: http://pandas.pydata.org/pandas-docs/stable/indexing.html#indexing-view-versus-copy\n",
      "  after removing the cwd from sys.path.\n"
     ]
    }
   ],
   "source": [
    "user1 = feature1[['user_id','merchant_id','coupon_id','discount_rate','distance','date_received','date']]\n",
    "t = user1[['user_id']]\n",
    "#去掉数据中重复的用户Id\n",
    "t.drop_duplicates(inplace=True)"
   ]
  },
  {
   "cell_type": "markdown",
   "metadata": {},
   "source": [
    "### 统计用户买的商品种类"
   ]
  },
  {
   "cell_type": "code",
   "execution_count": 159,
   "metadata": {},
   "outputs": [],
   "source": [
    "#用户购买商品的种类数\n",
    "t1 = user1[user1.date!='null'][['user_id','merchant_id']]\n",
    "#同样去掉重复用的用户id和商品id\n",
    "t1.drop_duplicates(inplace=True)\n",
    "t1.merchant_id = 1\n",
    "t1 = t1.groupby('user_id').agg('sum').reset_index()\n",
    "t1.rename(columns={'merchant_id':'count_merchant'},inplace=True)"
   ]
  },
  {
   "cell_type": "markdown",
   "metadata": {},
   "source": [
    "### 统计使用优惠券购买商品的用户和到店的距离"
   ]
  },
  {
   "cell_type": "code",
   "execution_count": 160,
   "metadata": {},
   "outputs": [],
   "source": [
    "#使用了优惠券购买商品的用户id和距离\n",
    "t2 = user1[(user1.date!='null')&(user1.coupon_id!='null')][['user_id','distance']]\n",
    "#将null值替换为-1\n",
    "t2.replace('null',-1,inplace=True)\n",
    "t2.distance = t2.distance.astype('int')#转换数据类型为int\n",
    "t2.replace(-1,np.nan,inplace=True)"
   ]
  },
  {
   "cell_type": "code",
   "execution_count": 161,
   "metadata": {},
   "outputs": [
    {
     "data": {
      "text/html": [
       "<div>\n",
       "<style scoped>\n",
       "    .dataframe tbody tr th:only-of-type {\n",
       "        vertical-align: middle;\n",
       "    }\n",
       "\n",
       "    .dataframe tbody tr th {\n",
       "        vertical-align: top;\n",
       "    }\n",
       "\n",
       "    .dataframe thead th {\n",
       "        text-align: right;\n",
       "    }\n",
       "</style>\n",
       "<table border=\"1\" class=\"dataframe\">\n",
       "  <thead>\n",
       "    <tr style=\"text-align: right;\">\n",
       "      <th></th>\n",
       "      <th>user_id</th>\n",
       "      <th>distance</th>\n",
       "    </tr>\n",
       "  </thead>\n",
       "  <tbody>\n",
       "    <tr>\n",
       "      <th>38</th>\n",
       "      <td>2881376</td>\n",
       "      <td>0.0</td>\n",
       "    </tr>\n",
       "    <tr>\n",
       "      <th>75</th>\n",
       "      <td>114747</td>\n",
       "      <td>0.0</td>\n",
       "    </tr>\n",
       "    <tr>\n",
       "      <th>76</th>\n",
       "      <td>114747</td>\n",
       "      <td>0.0</td>\n",
       "    </tr>\n",
       "    <tr>\n",
       "      <th>77</th>\n",
       "      <td>114747</td>\n",
       "      <td>0.0</td>\n",
       "    </tr>\n",
       "    <tr>\n",
       "      <th>84</th>\n",
       "      <td>114747</td>\n",
       "      <td>0.0</td>\n",
       "    </tr>\n",
       "  </tbody>\n",
       "</table>\n",
       "</div>"
      ],
      "text/plain": [
       "    user_id  distance\n",
       "38  2881376       0.0\n",
       "75   114747       0.0\n",
       "76   114747       0.0\n",
       "77   114747       0.0\n",
       "84   114747       0.0"
      ]
     },
     "execution_count": 161,
     "metadata": {},
     "output_type": "execute_result"
    }
   ],
   "source": [
    "t2.head()"
   ]
  },
  {
   "cell_type": "markdown",
   "metadata": {},
   "source": [
    "### 统计使用优惠券购买商品的用户离店铺的最短距离"
   ]
  },
  {
   "cell_type": "code",
   "execution_count": 162,
   "metadata": {},
   "outputs": [],
   "source": [
    "#得到使用优惠券购买商品的用户离店铺的最短距离\n",
    "t3 = t2.groupby('user_id').agg('min').reset_index()\n",
    "t3.rename(columns={'distance':'user_min_distance'},inplace=True)"
   ]
  },
  {
   "cell_type": "markdown",
   "metadata": {},
   "source": [
    "### 统计使用优惠券购买商品的用户离店铺的最大距离"
   ]
  },
  {
   "cell_type": "code",
   "execution_count": 163,
   "metadata": {},
   "outputs": [],
   "source": [
    "#得到最大距离\n",
    "t4 = t2.groupby('user_id').agg('max').reset_index()\n",
    "t4.rename(columns={'distance':'user_max_distance'},inplace=True)"
   ]
  },
  {
   "cell_type": "markdown",
   "metadata": {},
   "source": [
    "### 统计使用优惠券购买商品的用户离店铺的平均距离"
   ]
  },
  {
   "cell_type": "code",
   "execution_count": 164,
   "metadata": {},
   "outputs": [],
   "source": [
    "#得到平均距离\n",
    "t5 = t2.groupby('user_id').agg('mean').reset_index()\n",
    "t5.rename(columns={'distance':'user_mean_distance'},inplace=True)"
   ]
  },
  {
   "cell_type": "markdown",
   "metadata": {},
   "source": [
    "### 统计使用优惠券购买商品的用户离店铺的中间距离"
   ]
  },
  {
   "cell_type": "code",
   "execution_count": 165,
   "metadata": {},
   "outputs": [],
   "source": [
    "#得到中间距离\n",
    "t6 = t2.groupby('user_id').agg('median').reset_index()\n",
    "t6.rename(columns={'distance':'user_median_distance'},inplace=True)"
   ]
  },
  {
   "cell_type": "markdown",
   "metadata": {},
   "source": [
    "### 统计每个用户使用优惠券购买的物品数量"
   ]
  },
  {
   "cell_type": "code",
   "execution_count": 167,
   "metadata": {},
   "outputs": [],
   "source": [
    "#每个用户使用优惠券购买的物品数量\n",
    "t7 = user1[(user1.date != 'null')&(user1.coupon_id != 'null')][['user_id']]\n",
    "t7['buy_use_coupon'] = 1\n",
    "t7 = t7.groupby('user_id').agg('sum').reset_index()"
   ]
  },
  {
   "cell_type": "markdown",
   "metadata": {},
   "source": [
    "### 统计用户购买的物品总数"
   ]
  },
  {
   "cell_type": "code",
   "execution_count": 168,
   "metadata": {},
   "outputs": [],
   "source": [
    "#购买物品的总数\n",
    "t8 = user1[user1.date != 'null'][['user_id']]\n",
    "t8['buy_total'] = 1\n",
    "t8 = t8.groupby('user_id').agg('sum').reset_index()"
   ]
  },
  {
   "cell_type": "markdown",
   "metadata": {},
   "source": [
    "### 统计用户收到的优惠券数量"
   ]
  },
  {
   "cell_type": "code",
   "execution_count": 170,
   "metadata": {},
   "outputs": [],
   "source": [
    "#接受的优惠券的总数\n",
    "t9 = user1[user1.coupon_id != 'null'][['user_id']]\n",
    "t9['coupon_received'] = 1\n",
    "t9 = t9.groupby('user_id').agg('sum').reset_index()"
   ]
  },
  {
   "cell_type": "markdown",
   "metadata": {},
   "source": [
    "### 统计用户接受到优惠券的日期和使用之间的间隔"
   ]
  },
  {
   "cell_type": "code",
   "execution_count": 171,
   "metadata": {},
   "outputs": [],
   "source": [
    "def get_user_date_datereceived_gap(s):\n",
    "    s = s.split(':')\n",
    "    return (date(int(s[0][0:4]), int(s[0][4:6]), int(s[0][6:8])) - date(int(s[1][0:4]), int(s[1][4:6]), int(s[1][6:8]))).days"
   ]
  },
  {
   "cell_type": "code",
   "execution_count": 172,
   "metadata": {},
   "outputs": [],
   "source": [
    "#接受到优惠券的日期和使用之间的间隔***\n",
    "t10 = user1[(user1.date_received != 'null')&(user1.date != 'null')][['user_id','date_received','date']]\n",
    "t10['user_date_datereceived_gap'] = t10.date + ':'+ t10.date_received\n",
    "t10.user_date_datereceived_gap = t10.user_date_datereceived_gap.apply(get_user_date_datereceived_gap)\n",
    "t10 = t10[['user_id','user_date_datereceived_gap']]"
   ]
  },
  {
   "cell_type": "code",
   "execution_count": 174,
   "metadata": {},
   "outputs": [
    {
     "data": {
      "text/html": [
       "<div>\n",
       "<style scoped>\n",
       "    .dataframe tbody tr th:only-of-type {\n",
       "        vertical-align: middle;\n",
       "    }\n",
       "\n",
       "    .dataframe tbody tr th {\n",
       "        vertical-align: top;\n",
       "    }\n",
       "\n",
       "    .dataframe thead th {\n",
       "        text-align: right;\n",
       "    }\n",
       "</style>\n",
       "<table border=\"1\" class=\"dataframe\">\n",
       "  <thead>\n",
       "    <tr style=\"text-align: right;\">\n",
       "      <th></th>\n",
       "      <th>user_id</th>\n",
       "      <th>user_date_datereceived_gap</th>\n",
       "    </tr>\n",
       "  </thead>\n",
       "  <tbody>\n",
       "    <tr>\n",
       "      <th>38</th>\n",
       "      <td>2881376</td>\n",
       "      <td>8</td>\n",
       "    </tr>\n",
       "    <tr>\n",
       "      <th>75</th>\n",
       "      <td>114747</td>\n",
       "      <td>25</td>\n",
       "    </tr>\n",
       "    <tr>\n",
       "      <th>76</th>\n",
       "      <td>114747</td>\n",
       "      <td>11</td>\n",
       "    </tr>\n",
       "    <tr>\n",
       "      <th>77</th>\n",
       "      <td>114747</td>\n",
       "      <td>1</td>\n",
       "    </tr>\n",
       "    <tr>\n",
       "      <th>84</th>\n",
       "      <td>114747</td>\n",
       "      <td>7</td>\n",
       "    </tr>\n",
       "  </tbody>\n",
       "</table>\n",
       "</div>"
      ],
      "text/plain": [
       "    user_id  user_date_datereceived_gap\n",
       "38  2881376                           8\n",
       "75   114747                          25\n",
       "76   114747                          11\n",
       "77   114747                           1\n",
       "84   114747                           7"
      ]
     },
     "execution_count": 174,
     "metadata": {},
     "output_type": "execute_result"
    }
   ],
   "source": [
    "t10.head()"
   ]
  },
  {
   "cell_type": "markdown",
   "metadata": {},
   "source": [
    "### 统计用户优惠券使用时间的间隔取平均数"
   ]
  },
  {
   "cell_type": "code",
   "execution_count": 175,
   "metadata": {},
   "outputs": [],
   "source": [
    "#将用户优惠券使用时间的间隔取平均数\n",
    "t11 = t10.groupby('user_id').agg('mean').reset_index()\n",
    "t11.rename(columns={'user_date_datereceived_gap':'avg_user_date_datereceived_gap'},inplace=True)"
   ]
  },
  {
   "cell_type": "markdown",
   "metadata": {},
   "source": [
    "### 优惠券使用的间隔天数最小值"
   ]
  },
  {
   "cell_type": "code",
   "execution_count": 177,
   "metadata": {},
   "outputs": [],
   "source": [
    "#间隔天数的最小值\n",
    "t12 = t10.groupby('user_id').agg('min').reset_index()\n",
    "t12.rename(columns={'user_date_datereceived_gap':'min_user_date_datereceived_gap'},inplace=True)"
   ]
  },
  {
   "cell_type": "markdown",
   "metadata": {},
   "source": [
    "### 优惠券使用的间隔天数最大值"
   ]
  },
  {
   "cell_type": "code",
   "execution_count": 178,
   "metadata": {},
   "outputs": [],
   "source": [
    "#间隔天数的最大值\n",
    "t13 = t10.groupby('user_id').agg('max').reset_index()\n",
    "t13.rename(columns={'user_date_datareceived_gap':'max_user_date_datereceived_gap'},inplace=True)"
   ]
  },
  {
   "cell_type": "markdown",
   "metadata": {},
   "source": [
    "### 合并特征表"
   ]
  },
  {
   "cell_type": "code",
   "execution_count": 180,
   "metadata": {},
   "outputs": [],
   "source": [
    "user1_feature = pd.merge(t,t1,on='user_id',how='left')\n",
    "user1_feature = pd.merge(user1_feature,t3,on='user_id',how='left')\n",
    "user1_feature = pd.merge(user1_feature,t4,on='user_id',how='left')\n",
    "user1_feature = pd.merge(user1_feature,t5,on='user_id',how='left')\n",
    "user1_feature = pd.merge(user1_feature,t6,on='user_id',how='left')\n",
    "user1_feature = pd.merge(user1_feature,t7,on='user_id',how='left')\n",
    "user1_feature = pd.merge(user1_feature,t8,on='user_id',how='left')\n",
    "user1_feature = pd.merge(user1_feature,t9,on='user_id',how='left')\n",
    "user1_feature = pd.merge(user1_feature,t11,on='user_id',how='left')\n",
    "user1_feature = pd.merge(user1_feature,t12,on='user_id',how='left')\n",
    "user1_feature = pd.merge(user1_feature,t13,on='user_id',how='left')"
   ]
  },
  {
   "cell_type": "markdown",
   "metadata": {},
   "source": [
    "### 处理特征表中的缺失值"
   ]
  },
  {
   "cell_type": "code",
   "execution_count": 181,
   "metadata": {},
   "outputs": [],
   "source": [
    "user1_feature.count_merchant = user1_feature.count_merchant.replace(np.nan,0)\n",
    "user1_feature.buy_use_coupon = user1_feature.buy_use_coupon.replace(np.nan,0)\n",
    "user1_feature['buy_use_coupon_rate'] = user1_feature.buy_use_coupon.astype('float') / user1_feature.buy_total.astype('float')\n",
    "user1_feature['user_coupon_transfer_rate'] = user1_feature.buy_use_coupon.astype('float') / user1_feature.coupon_received.astype('float')\n",
    "user1_feature.buy_total = user1_feature.buy_total.replace(np.nan,0)\n",
    "user1_feature.coupon_received = user1_feature.coupon_received.replace(np.nan,0)\n",
    "user1_feature.to_csv('./user1_feature.csv',index=None)"
   ]
  },
  {
   "cell_type": "markdown",
   "metadata": {},
   "source": [
    "## 用户和商家之间的特征处理"
   ]
  },
  {
   "cell_type": "markdown",
   "metadata": {},
   "source": [
    "### 获取用户和商家去重数量"
   ]
  },
  {
   "cell_type": "code",
   "execution_count": 182,
   "metadata": {},
   "outputs": [
    {
     "name": "stderr",
     "output_type": "stream",
     "text": [
      "/Users/houxiaojun/.virtualenvs/testai/lib/python3.7/site-packages/ipykernel_launcher.py:2: SettingWithCopyWarning: \n",
      "A value is trying to be set on a copy of a slice from a DataFrame\n",
      "\n",
      "See the caveats in the documentation: http://pandas.pydata.org/pandas-docs/stable/indexing.html#indexing-view-versus-copy\n",
      "  \n"
     ]
    }
   ],
   "source": [
    "all_user_merchant = feature1[['user_id','merchant_id']]\n",
    "all_user_merchant.drop_duplicates(inplace=True)"
   ]
  },
  {
   "cell_type": "markdown",
   "metadata": {},
   "source": [
    "### 统计用户买了同一家商户的商品有多少"
   ]
  },
  {
   "cell_type": "code",
   "execution_count": 183,
   "metadata": {},
   "outputs": [],
   "source": [
    "#只保留销售了商品的商户id\n",
    "t = feature1[['user_id','merchant_id','date']]\n",
    "t = t[t.date!='null'][['user_id','merchant_id']]\n",
    "#用户一共买了这家商户的多少商品\n",
    "t['user_merchant_buy_total'] = 1\n",
    "t = t.groupby(['user_id','merchant_id']).agg('sum').reset_index()\n",
    "t.drop_duplicates(inplace=True)"
   ]
  },
  {
   "cell_type": "markdown",
   "metadata": {},
   "source": [
    "### 统计用户一共收到一个商户的多少优惠券"
   ]
  },
  {
   "cell_type": "code",
   "execution_count": 184,
   "metadata": {},
   "outputs": [],
   "source": [
    "t1 = feature1[['user_id','merchant_id','coupon_id']]\n",
    "t1 = t1[t1.coupon_id!='null'][['user_id','merchant_id']]\n",
    "t1['user_merchant_received'] = 1\n",
    "t1 = t1.groupby(['user_id','merchant_id']).agg('sum').reset_index()\n",
    "t1.drop_duplicates(inplace = True)"
   ]
  },
  {
   "cell_type": "markdown",
   "metadata": {},
   "source": [
    "### 用户在一家商户中使用优惠券购买的商品的数目"
   ]
  },
  {
   "cell_type": "code",
   "execution_count": 185,
   "metadata": {},
   "outputs": [],
   "source": [
    "t2 = feature1[['user_id','merchant_id','date','date_received']]\n",
    "t2 = t2[(t2.date!='null')&(t2.date_received!='null')][['user_id','merchant_id']]\n",
    "t2['user_merchant_buy_use_coupon'] = 1\n",
    "t2 = t2.groupby(['user_id','merchant_id']).agg('sum').reset_index()\n",
    "t2.drop_duplicates(inplace = True)"
   ]
  },
  {
   "cell_type": "markdown",
   "metadata": {},
   "source": [
    "### 统计用户在一家商家的所有记录的总数"
   ]
  },
  {
   "cell_type": "code",
   "execution_count": 187,
   "metadata": {},
   "outputs": [
    {
     "name": "stderr",
     "output_type": "stream",
     "text": [
      "/Users/houxiaojun/.virtualenvs/testai/lib/python3.7/site-packages/ipykernel_launcher.py:2: SettingWithCopyWarning: \n",
      "A value is trying to be set on a copy of a slice from a DataFrame.\n",
      "Try using .loc[row_indexer,col_indexer] = value instead\n",
      "\n",
      "See the caveats in the documentation: http://pandas.pydata.org/pandas-docs/stable/indexing.html#indexing-view-versus-copy\n",
      "  \n"
     ]
    }
   ],
   "source": [
    "t3 = feature1[['user_id','merchant_id']]\n",
    "t3['user_merchant_any'] = 1\n",
    "t3 = t3.groupby(['user_id','merchant_id']).agg('sum').reset_index()\n",
    "t3.drop_duplicates(inplace = True)"
   ]
  },
  {
   "cell_type": "markdown",
   "metadata": {},
   "source": [
    "### 统计用户没有使用优惠券购买的商品的数目"
   ]
  },
  {
   "cell_type": "code",
   "execution_count": 189,
   "metadata": {},
   "outputs": [],
   "source": [
    "t4 = feature1[['user_id','merchant_id','date','coupon_id']]\n",
    "t4 = t4[(t4.date!='null')&(t4.coupon_id=='null')][['user_id','merchant_id']]\n",
    "t4['user_merchant_buy_common'] = 1\n",
    "t4 = t4.groupby(['user_id','merchant_id']).agg('sum').reset_index()\n",
    "t4.drop_duplicates(inplace = True)"
   ]
  },
  {
   "cell_type": "markdown",
   "metadata": {},
   "source": [
    "### 合并用户和商家的特征处理表"
   ]
  },
  {
   "cell_type": "code",
   "execution_count": 190,
   "metadata": {},
   "outputs": [],
   "source": [
    "user_merchant1 = pd.merge(all_user_merchant,t,on=['user_id','merchant_id'],how='left')\n",
    "user_merchant1 = pd.merge(user_merchant1,t1,on=['user_id','merchant_id'],how='left')\n",
    "user_merchant1 = pd.merge(user_merchant1,t2,on=['user_id','merchant_id'],how='left')\n",
    "user_merchant1 = pd.merge(user_merchant1,t3,on=['user_id','merchant_id'],how='left')\n",
    "user_merchant1 = pd.merge(user_merchant1,t4,on=['user_id','merchant_id'],how='left')"
   ]
  },
  {
   "cell_type": "markdown",
   "metadata": {},
   "source": [
    "### 统计用户和商家之间的优惠券的使用概率, 缺失值的处理"
   ]
  },
  {
   "cell_type": "code",
   "execution_count": 191,
   "metadata": {},
   "outputs": [],
   "source": [
    "# 都是针对一家商户和一个用户\n",
    "user_merchant1.user_merchant_buy_use_coupon = user_merchant1.user_merchant_buy_use_coupon.replace(\n",
    "    np.nan, 0)\n",
    "user_merchant1.user_merchant_buy_common = user_merchant1.user_merchant_buy_common.replace(\n",
    "    np.nan, 0)\n",
    "# 优惠券的转换率，用户使用了的优惠券/一共收到的优惠券\n",
    "user_merchant1['user_merchant_coupon_transfer_rate'] = user_merchant1.user_merchant_buy_use_coupon.astype(\n",
    "    'float') / user_merchant1.user_merchant_received.astype('float')\n",
    "# 用户使用优惠券的概率，在一家商户使用优惠券购买的商品/在一家商户购买商品的总数\n",
    "user_merchant1['user_merchant_coupon_buy_rate'] = user_merchant1.user_merchant_buy_use_coupon.astype(\n",
    "    'float') / user_merchant1.user_merchant_buy_total.astype('float')\n",
    "# 用户在商户消费的概率 用户在商户购买的总数/在一家商户浏览的总次数\n",
    "user_merchant1['user_merchant_rate'] = user_merchant1.user_merchant_buy_total.astype(\n",
    "    'float') / user_merchant1.user_merchant_any.astype('float')\n",
    "# 用户在一家商户不适用优惠券购买的概率 普通购买的商品数/购买商品的总数\n",
    "user_merchant1['user_merchant_common_buy_rate'] = user_merchant1.user_merchant_buy_common.astype(\n",
    "    'float') / user_merchant1.user_merchant_buy_total.astype('float')\n",
    "user_merchant1.to_csv('./user_merchant1.csv', index=None)"
   ]
  },
  {
   "cell_type": "markdown",
   "metadata": {},
   "source": [
    "## 训练集和测试集的再次处理"
   ]
  },
  {
   "cell_type": "markdown",
   "metadata": {},
   "source": [
    "### 获取之前保存的处理完成的特征"
   ]
  },
  {
   "cell_type": "code",
   "execution_count": 203,
   "metadata": {},
   "outputs": [],
   "source": [
    "coupon1 = pd.read_csv('./coupon1_feature.csv', keep_default_na=False)\n",
    "merchant1 = pd.read_csv('./merchant1_feature.csv', keep_default_na=False)\n",
    "user1 = pd.read_csv('./user1_feature.csv', keep_default_na=False)\n",
    "user_merchant1 = pd.read_csv('./user_merchant1.csv', keep_default_na=False)\n",
    "other_feature1 = pd.read_csv('./other_feature1.csv', keep_default_na=False)\n",
    "dataset1 = pd.merge(coupon1,merchant1,on='merchant_id',how='left')\n",
    "dataset1 = pd.merge(dataset1,user1,on='user_id',how='left')\n",
    "dataset1 = pd.merge(dataset1,user_merchant1,on=['user_id','merchant_id'],how='left')\n",
    "dataset1 = pd.merge(dataset1,other_feature1,on=['user_id','coupon_id','date_received'],how='left')\n",
    "dataset1.drop_duplicates(inplace=True)"
   ]
  },
  {
   "cell_type": "code",
   "execution_count": 204,
   "metadata": {},
   "outputs": [
    {
     "data": {
      "text/plain": [
       "(181040, 55)"
      ]
     },
     "execution_count": 204,
     "metadata": {},
     "output_type": "execute_result"
    }
   ],
   "source": [
    "dataset1.shape"
   ]
  },
  {
   "cell_type": "markdown",
   "metadata": {},
   "source": [
    "### 添加is_weeekend特征"
   ]
  },
  {
   "cell_type": "code",
   "execution_count": 205,
   "metadata": {},
   "outputs": [],
   "source": [
    "dataset1.user_merchant_buy_total = dataset1.user_merchant_buy_total.replace(np.nan,0)\n",
    "dataset1.user_merchant_any = dataset1.user_merchant_any.replace(np.nan,0)\n",
    "dataset1.user_merchant_received = dataset1.user_merchant_received.replace(np.nan,0)\n",
    "dataset1['is_weekend'] = dataset1.day_of_week.apply(lambda x:1 if x in (6,7) else 0)\n",
    "# 使用get_dummies进行one_hot编码\n",
    "weekday_dummies = pd.get_dummies(dataset1.day_of_week)\n",
    "weekday_dummies.columns = ['weekday'+str(i+1) for i in range(weekday_dummies.shape[1])]\n",
    "#one-hot编码与原数据合并\n",
    "dataset1 = pd.concat([dataset1,weekday_dummies],axis=1)"
   ]
  },
  {
   "cell_type": "code",
   "execution_count": 206,
   "metadata": {},
   "outputs": [],
   "source": [
    "def get_label(s):\n",
    "    s = s.split(':')\n",
    "    if s[0]=='null':\n",
    "        return 0\n",
    "    elif (date(int(s[0][0:4]),int(s[0][4:6]),int(s[0][6:8]))-date(int(s[1][0:4]),int(s[1][4:6]),int(s[1][6:8]))).days<=15:\n",
    "        return 1\n",
    "    else:\n",
    "        return -1"
   ]
  },
  {
   "cell_type": "code",
   "execution_count": 209,
   "metadata": {},
   "outputs": [
    {
     "data": {
      "text/html": [
       "<div>\n",
       "<style scoped>\n",
       "    .dataframe tbody tr th:only-of-type {\n",
       "        vertical-align: middle;\n",
       "    }\n",
       "\n",
       "    .dataframe tbody tr th {\n",
       "        vertical-align: top;\n",
       "    }\n",
       "\n",
       "    .dataframe thead th {\n",
       "        text-align: right;\n",
       "    }\n",
       "</style>\n",
       "<table border=\"1\" class=\"dataframe\">\n",
       "  <thead>\n",
       "    <tr style=\"text-align: right;\">\n",
       "      <th></th>\n",
       "      <th>user_id</th>\n",
       "      <th>coupon_id</th>\n",
       "      <th>discount_rate</th>\n",
       "      <th>distance</th>\n",
       "      <th>day_of_month</th>\n",
       "      <th>days_distance</th>\n",
       "      <th>discount_man</th>\n",
       "      <th>discount_jian</th>\n",
       "      <th>is_man_jian</th>\n",
       "      <th>coupon_count_x</th>\n",
       "      <th>...</th>\n",
       "      <th>day_gap_after</th>\n",
       "      <th>is_weekend</th>\n",
       "      <th>weekday1</th>\n",
       "      <th>weekday2</th>\n",
       "      <th>weekday3</th>\n",
       "      <th>weekday4</th>\n",
       "      <th>weekday5</th>\n",
       "      <th>weekday6</th>\n",
       "      <th>weekday7</th>\n",
       "      <th>label</th>\n",
       "    </tr>\n",
       "  </thead>\n",
       "  <tbody>\n",
       "    <tr>\n",
       "      <th>0</th>\n",
       "      <td>1832624</td>\n",
       "      <td>7610</td>\n",
       "      <td>0.900000</td>\n",
       "      <td>0</td>\n",
       "      <td>29</td>\n",
       "      <td>16</td>\n",
       "      <td>200</td>\n",
       "      <td>20</td>\n",
       "      <td>1</td>\n",
       "      <td>37647</td>\n",
       "      <td>...</td>\n",
       "      <td>-1</td>\n",
       "      <td>0</td>\n",
       "      <td>0</td>\n",
       "      <td>0</td>\n",
       "      <td>0</td>\n",
       "      <td>0</td>\n",
       "      <td>1</td>\n",
       "      <td>0</td>\n",
       "      <td>0</td>\n",
       "      <td>0</td>\n",
       "    </tr>\n",
       "    <tr>\n",
       "      <th>1</th>\n",
       "      <td>163606</td>\n",
       "      <td>5054</td>\n",
       "      <td>0.850000</td>\n",
       "      <td>10</td>\n",
       "      <td>21</td>\n",
       "      <td>8</td>\n",
       "      <td>200</td>\n",
       "      <td>30</td>\n",
       "      <td>1</td>\n",
       "      <td>19874</td>\n",
       "      <td>...</td>\n",
       "      <td>-1</td>\n",
       "      <td>0</td>\n",
       "      <td>0</td>\n",
       "      <td>0</td>\n",
       "      <td>0</td>\n",
       "      <td>1</td>\n",
       "      <td>0</td>\n",
       "      <td>0</td>\n",
       "      <td>0</td>\n",
       "      <td>0</td>\n",
       "    </tr>\n",
       "    <tr>\n",
       "      <th>2</th>\n",
       "      <td>94107</td>\n",
       "      <td>7610</td>\n",
       "      <td>0.900000</td>\n",
       "      <td>2</td>\n",
       "      <td>12</td>\n",
       "      <td>-1</td>\n",
       "      <td>200</td>\n",
       "      <td>20</td>\n",
       "      <td>1</td>\n",
       "      <td>37647</td>\n",
       "      <td>...</td>\n",
       "      <td>-1</td>\n",
       "      <td>0</td>\n",
       "      <td>0</td>\n",
       "      <td>1</td>\n",
       "      <td>0</td>\n",
       "      <td>0</td>\n",
       "      <td>0</td>\n",
       "      <td>0</td>\n",
       "      <td>0</td>\n",
       "      <td>0</td>\n",
       "    </tr>\n",
       "    <tr>\n",
       "      <th>3</th>\n",
       "      <td>4061024</td>\n",
       "      <td>7610</td>\n",
       "      <td>0.900000</td>\n",
       "      <td>10</td>\n",
       "      <td>26</td>\n",
       "      <td>13</td>\n",
       "      <td>200</td>\n",
       "      <td>20</td>\n",
       "      <td>1</td>\n",
       "      <td>37647</td>\n",
       "      <td>...</td>\n",
       "      <td>-1</td>\n",
       "      <td>0</td>\n",
       "      <td>0</td>\n",
       "      <td>1</td>\n",
       "      <td>0</td>\n",
       "      <td>0</td>\n",
       "      <td>0</td>\n",
       "      <td>0</td>\n",
       "      <td>0</td>\n",
       "      <td>0</td>\n",
       "    </tr>\n",
       "    <tr>\n",
       "      <th>4</th>\n",
       "      <td>4061024</td>\n",
       "      <td>9871</td>\n",
       "      <td>0.833333</td>\n",
       "      <td>10</td>\n",
       "      <td>9</td>\n",
       "      <td>-4</td>\n",
       "      <td>30</td>\n",
       "      <td>5</td>\n",
       "      <td>1</td>\n",
       "      <td>12674</td>\n",
       "      <td>...</td>\n",
       "      <td>-1</td>\n",
       "      <td>1</td>\n",
       "      <td>0</td>\n",
       "      <td>0</td>\n",
       "      <td>0</td>\n",
       "      <td>0</td>\n",
       "      <td>0</td>\n",
       "      <td>1</td>\n",
       "      <td>0</td>\n",
       "      <td>0</td>\n",
       "    </tr>\n",
       "  </tbody>\n",
       "</table>\n",
       "<p>5 rows × 59 columns</p>\n",
       "</div>"
      ],
      "text/plain": [
       "   user_id  coupon_id  discount_rate distance  day_of_month  days_distance  \\\n",
       "0  1832624       7610       0.900000        0            29             16   \n",
       "1   163606       5054       0.850000       10            21              8   \n",
       "2    94107       7610       0.900000        2            12             -1   \n",
       "3  4061024       7610       0.900000       10            26             13   \n",
       "4  4061024       9871       0.833333       10             9             -4   \n",
       "\n",
       "  discount_man discount_jian  is_man_jian  coupon_count_x  ...  day_gap_after  \\\n",
       "0          200            20            1           37647  ...             -1   \n",
       "1          200            30            1           19874  ...             -1   \n",
       "2          200            20            1           37647  ...             -1   \n",
       "3          200            20            1           37647  ...             -1   \n",
       "4           30             5            1           12674  ...             -1   \n",
       "\n",
       "  is_weekend  weekday1  weekday2 weekday3 weekday4 weekday5 weekday6 weekday7  \\\n",
       "0          0         0         0        0        0        1        0        0   \n",
       "1          0         0         0        0        1        0        0        0   \n",
       "2          0         0         1        0        0        0        0        0   \n",
       "3          0         0         1        0        0        0        0        0   \n",
       "4          1         0         0        0        0        0        1        0   \n",
       "\n",
       "  label  \n",
       "0     0  \n",
       "1     0  \n",
       "2     0  \n",
       "3     0  \n",
       "4     0  \n",
       "\n",
       "[5 rows x 59 columns]"
      ]
     },
     "execution_count": 209,
     "metadata": {},
     "output_type": "execute_result"
    }
   ],
   "source": [
    "dataset1.head()"
   ]
  },
  {
   "cell_type": "markdown",
   "metadata": {},
   "source": [
    "### 处理标签值"
   ]
  },
  {
   "cell_type": "code",
   "execution_count": 208,
   "metadata": {},
   "outputs": [],
   "source": [
    "dataset1['label'] = dataset1.date.astype(\n",
    "    'str') + ':' + dataset1.date_received.astype('str')\n",
    "dataset1.label = dataset1.label.apply(get_label)\n",
    "dataset1.drop(['merchant_id', 'day_of_week', 'date', 'date_received',\n",
    "             'coupon_count'], axis=1, inplace=True)"
   ]
  },
  {
   "cell_type": "code",
   "execution_count": 211,
   "metadata": {},
   "outputs": [],
   "source": [
    "# 所有的表都要一起处理null\n",
    "dataset1 = dataset1.replace('null', np.nan)"
   ]
  },
  {
   "cell_type": "code",
   "execution_count": 212,
   "metadata": {},
   "outputs": [],
   "source": [
    "dataset1.to_csv('./dataset1.csv',index=None)"
   ]
  },
  {
   "cell_type": "code",
   "execution_count": null,
   "metadata": {},
   "outputs": [],
   "source": [
    "# 1、深入理解数据分布,尤其是测试目标的数据分布,是成功的第一步\n",
    "# 2、特征决定上限,调参只是帮助你逼近这个上限而已\n",
    "# 3、多与人交流,自己埋头苦干很容易跳进坑里一辈子出不来"
   ]
  }
 ],
 "metadata": {
  "kernelspec": {
   "display_name": "Python 3",
   "language": "python",
   "name": "python3"
  },
  "language_info": {
   "codemirror_mode": {
    "name": "ipython",
    "version": 3
   },
   "file_extension": ".py",
   "mimetype": "text/x-python",
   "name": "python",
   "nbconvert_exporter": "python",
   "pygments_lexer": "ipython3",
   "version": "3.7.3"
  },
  "toc": {
   "base_numbering": 1,
   "nav_menu": {},
   "number_sections": true,
   "sideBar": true,
   "skip_h1_title": false,
   "title_cell": "Table of Contents",
   "title_sidebar": "Contents",
   "toc_cell": false,
   "toc_position": {
    "height": "calc(100% - 180px)",
    "left": "10px",
    "top": "150px",
    "width": "249.188px"
   },
   "toc_section_display": true,
   "toc_window_display": true
  }
 },
 "nbformat": 4,
 "nbformat_minor": 2
}
